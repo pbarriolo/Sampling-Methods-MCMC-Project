{
 "cells": [
  {
   "cell_type": "markdown",
   "metadata": {},
   "source": [
    "# 1 Import and Init"
   ]
  },
  {
   "cell_type": "code",
   "execution_count": 461,
   "metadata": {},
   "outputs": [],
   "source": [
    "import numpy as np\n",
    "import matplotlib.pyplot as plt\n",
    "import random \n",
    "seed=1996\n",
    "np.random.seed(seed)\n",
    "random.seed(seed)"
   ]
  },
  {
   "cell_type": "code",
   "execution_count": 521,
   "metadata": {},
   "outputs": [
    {
     "data": {
      "text/plain": [
       "array([[0.02],\n",
       "       [0.03]])"
      ]
     },
     "execution_count": 521,
     "metadata": {},
     "output_type": "execute_result"
    }
   ],
   "source": [
    "N,k=150,10\n",
    "learning_rate=0.001\n",
    "mu=np.zeros(k)\n",
    "sigma=2 # \" dans la papier sigma_square=100\"\n",
    "std=sigma*np.identity(k)\n",
    "beta_none=np.array([(i+1)/100 for i in range(k) ]).reshape(k,1)\n",
    "X=np.random.randn(N,k)\n",
    "B=10000\n",
    "beta_none[1:3]"
   ]
  },
  {
   "cell_type": "code",
   "execution_count": 463,
   "metadata": {},
   "outputs": [
    {
     "data": {
      "text/plain": [
       "array([[0.02]])"
      ]
     },
     "execution_count": 463,
     "metadata": {},
     "output_type": "execute_result"
    }
   ],
   "source": [
    "beta_none[1:2]"
   ]
  },
  {
   "cell_type": "code",
   "execution_count": 522,
   "metadata": {},
   "outputs": [],
   "source": [
    "min_=np.mean(X,axis=0)\n",
    "max_=np.max(X,axis=0)\n",
    "X=(X-min_)/max_-min_"
   ]
  },
  {
   "cell_type": "markdown",
   "metadata": {},
   "source": [
    "#  2 DGP"
   ]
  },
  {
   "cell_type": "code",
   "execution_count": 523,
   "metadata": {},
   "outputs": [],
   "source": [
    "def indicator(x,threshold=0) :\n",
    "    if x>=threshold:\n",
    "        return int(1)\n",
    "    else:\n",
    "            return int(0)"
   ]
  },
  {
   "cell_type": "code",
   "execution_count": 524,
   "metadata": {},
   "outputs": [
    {
     "data": {
      "text/plain": [
       "((150, 10), (10, 1))"
      ]
     },
     "execution_count": 524,
     "metadata": {},
     "output_type": "execute_result"
    }
   ],
   "source": [
    "X.shape,beta_none.shape"
   ]
  },
  {
   "cell_type": "code",
   "execution_count": 525,
   "metadata": {},
   "outputs": [],
   "source": [
    "Y=np.zeros(N).reshape(N,1)\n",
    "for i in range(N):\n",
    "    z=np.random.randn(1)\n",
    "    Y[i]=indicator(np.dot(X[i],beta_none))"
   ]
  },
  {
   "cell_type": "code",
   "execution_count": 526,
   "metadata": {},
   "outputs": [
    {
     "data": {
      "text/plain": [
       "(array([63.,  0.,  0.,  0.,  0.,  0.,  0.,  0.,  0., 87.]),\n",
       " array([0. , 0.1, 0.2, 0.3, 0.4, 0.5, 0.6, 0.7, 0.8, 0.9, 1. ]),\n",
       " <BarContainer object of 10 artists>)"
      ]
     },
     "execution_count": 526,
     "metadata": {},
     "output_type": "execute_result"
    },
    {
     "data": {
      "image/png": "[encoded data removed]",
      "text/plain": [
       "<Figure size 640x480 with 1 Axes>"
      ]
     },
     "metadata": {},
     "output_type": "display_data"
    }
   ],
   "source": [
    "plt.hist(Y)"
   ]
  },
  {
   "cell_type": "code",
   "execution_count": 527,
   "metadata": {},
   "outputs": [
    {
     "data": {
      "text/plain": [
       "(150, 1)"
      ]
     },
     "execution_count": 527,
     "metadata": {},
     "output_type": "execute_result"
    }
   ],
   "source": [
    "Y.shape"
   ]
  },
  {
   "cell_type": "code",
   "execution_count": 532,
   "metadata": {},
   "outputs": [],
   "source": [
    "def log_lik(X,Y,beta):\n",
    "    beta_t=beta.transpose()\n",
    "    X_t=X.transpose()\n",
    "    ll=np.dot(beta_t,np.dot(X_t,Y))\n",
    "    for i in range(N):\n",
    "        ll=ll-np.log(1+np.exp(np.dot((X[i,:].reshape(k,1)),beta.reshape(1,k))))\n",
    "    return ll[0][0]"
   ]
  },
  {
   "cell_type": "code",
   "execution_count": 533,
   "metadata": {},
   "outputs": [
    {
     "data": {
      "text/plain": [
       "-98.75870465437521"
      ]
     },
     "execution_count": 533,
     "metadata": {},
     "output_type": "execute_result"
    }
   ],
   "source": [
    "log_lik(X,Y,beta_none)"
   ]
  },
  {
   "cell_type": "code",
   "execution_count": 534,
   "metadata": {},
   "outputs": [],
   "source": [
    "def link_fun(x):\n",
    "    return 1/(1+np.exp(-x))"
   ]
  },
  {
   "cell_type": "code",
   "execution_count": 690,
   "metadata": {},
   "outputs": [],
   "source": [
    "def density_value(beta,mu,var_):\n",
    "    beta=beta.reshape(k,1)\n",
    "    mu=mu.reshape(k,1)\n",
    "    gap=beta-mu\n",
    "    gap_t=gap.transpose()\n",
    "    pi=np.pi\n",
    "    det=np.linalg.det(var_)\n",
    "    in_var=np.linalg.inv(var_)\n",
    "    const_=np.sqrt(((2*np.pi)**k)*det)\n",
    "    inv_const=np.round(1/const_,100)\n",
    "    v=np.dot(gap_t,np.dot(in_var,gap))\n",
    "    x=np.exp((-1/2)*v)\n",
    "    value=inv_const*x\n",
    "    return value[0][0]"
   ]
  },
  {
   "cell_type": "code",
   "execution_count": 623,
   "metadata": {},
   "outputs": [],
   "source": [
    "def grad_log_lik(X,Y,beta):\n",
    "    X_t=X.transpose()\n",
    "    gll=X_t@Y\n",
    "    for n in range(N):\n",
    "        value=np.dot(X[i,:],beta)[0]\n",
    "        gll=gll-link_fun(value)*(X[i,:].reshape(k,1))\n",
    "    return gll\n",
    "    "
   ]
  },
  {
   "cell_type": "code",
   "execution_count": 624,
   "metadata": {},
   "outputs": [
    {
     "data": {
      "text/plain": [
       "(0.0001,\n",
       " array([[-35.13660461],\n",
       "        [ -6.05479829],\n",
       "        [ 54.05877249],\n",
       "        [ 14.8671099 ],\n",
       "        [  8.10252443],\n",
       "        [-32.51009181],\n",
       "        [ 11.89690524],\n",
       "        [ 12.74440787],\n",
       "        [  0.42962362],\n",
       "        [ 13.99109151]]))"
      ]
     },
     "execution_count": 624,
     "metadata": {},
     "output_type": "execute_result"
    }
   ],
   "source": [
    "learning_rate*0.1,grad_log_lik(X,Y,beta_none)"
   ]
  },
  {
   "cell_type": "code",
   "execution_count": 625,
   "metadata": {},
   "outputs": [],
   "source": [
    "def mala_drawner(X,Y,curren_beta):\n",
    "    z=np.random.randn(k,1)\n",
    "    e=0.01*learning_rate\n",
    "    gll=grad_log_lik(X,Y,curren_beta)\n",
    "    proposal_value=curren_beta+e*e*gll/2 +e*z\n",
    "    return proposal_value\n"
   ]
  },
  {
   "cell_type": "code",
   "execution_count": 626,
   "metadata": {},
   "outputs": [
    {
     "data": {
      "text/plain": [
       "(array([[0.01000484],\n",
       "        [0.01999882],\n",
       "        [0.03000569],\n",
       "        [0.03999563],\n",
       "        [0.05000469]]),\n",
       " array([[0.01],\n",
       "        [0.02],\n",
       "        [0.03],\n",
       "        [0.04],\n",
       "        [0.05]]))"
      ]
     },
     "execution_count": 626,
     "metadata": {},
     "output_type": "execute_result"
    }
   ],
   "source": [
    "mala_drawner(X,Y,beta_none)[0:5],beta_none[0:5]"
   ]
  },
  {
   "cell_type": "code",
   "execution_count": 627,
   "metadata": {},
   "outputs": [
    {
     "data": {
      "text/plain": [
       "array([[0.01000996],\n",
       "       [0.01998749],\n",
       "       [0.02999726],\n",
       "       [0.04000059],\n",
       "       [0.05000472],\n",
       "       [0.06000185],\n",
       "       [0.07000047],\n",
       "       [0.0800071 ],\n",
       "       [0.08999962],\n",
       "       [0.10000922]])"
      ]
     },
     "execution_count": 627,
     "metadata": {},
     "output_type": "execute_result"
    }
   ],
   "source": [
    "mala_drawner(X,Y,beta_none)"
   ]
  },
  {
   "cell_type": "code",
   "execution_count": 628,
   "metadata": {},
   "outputs": [],
   "source": []
  },
  {
   "cell_type": "code",
   "execution_count": 629,
   "metadata": {},
   "outputs": [
    {
     "data": {
      "text/plain": [
       "0.0009718740835196074"
      ]
     },
     "execution_count": 629,
     "metadata": {},
     "output_type": "execute_result"
    }
   ],
   "source": [
    "mu=np.zeros(k)\n",
    "sigma=2 # \" dans la papier sigma_square=100\"\n",
    "var_=sigma*sigma*np.identity(k)\n",
    "density_value(beta_none,mu,var_)*np.sqrt(((2*np.pi)**k))"
   ]
  },
  {
   "cell_type": "code",
   "execution_count": 630,
   "metadata": {},
   "outputs": [],
   "source": [
    "def MALA_proposal_mean(X,Y,current_beta):\n",
    "   e=0.001*learning_rate\n",
    "   gll=grad_log_lik(X,Y,current_beta)\n",
    "   prop_mean=current_beta+e*e*gll/2 \n",
    "\n",
    "   return prop_mean\n"
   ]
  },
  {
   "cell_type": "code",
   "execution_count": 631,
   "metadata": {},
   "outputs": [
    {
     "data": {
      "text/plain": [
       "0.001"
      ]
     },
     "execution_count": 631,
     "metadata": {},
     "output_type": "execute_result"
    }
   ],
   "source": [
    "learning_rate"
   ]
  },
  {
   "cell_type": "code",
   "execution_count": 632,
   "metadata": {},
   "outputs": [
    {
     "data": {
      "text/plain": [
       "array([[0.01],\n",
       "       [0.02],\n",
       "       [0.03],\n",
       "       [0.04],\n",
       "       [0.05],\n",
       "       [0.06],\n",
       "       [0.07],\n",
       "       [0.08],\n",
       "       [0.09],\n",
       "       [0.1 ]])"
      ]
     },
     "execution_count": 632,
     "metadata": {},
     "output_type": "execute_result"
    }
   ],
   "source": [
    "MALA_proposal_mean(X,Y,beta_none)"
   ]
  },
  {
   "cell_type": "code",
   "execution_count": 568,
   "metadata": {},
   "outputs": [
    {
     "data": {
      "text/plain": [
       "0.001"
      ]
     },
     "execution_count": 568,
     "metadata": {},
     "output_type": "execute_result"
    }
   ],
   "source": [
    "learning_rate"
   ]
  },
  {
   "cell_type": "code",
   "execution_count": 633,
   "metadata": {},
   "outputs": [],
   "source": [
    "def MALA_proposal_var():\n",
    "    e=0.001*learning_rate\n",
    "    prop_var=(e)*np.identity(k)\n",
    "\n",
    "    return prop_var"
   ]
  },
  {
   "cell_type": "code",
   "execution_count": 634,
   "metadata": {},
   "outputs": [
    {
     "data": {
      "text/plain": [
       "(10, 10)"
      ]
     },
     "execution_count": 634,
     "metadata": {},
     "output_type": "execute_result"
    }
   ],
   "source": [
    "MALA_proposal_var().shape"
   ]
  },
  {
   "cell_type": "code",
   "execution_count": 635,
   "metadata": {},
   "outputs": [],
   "source": [
    "def MALA_aceptance_rate(beta1,beta2,X=X,Y=Y):\n",
    "    ee=0.00001\n",
    "    q_var=MALA_proposal_var()\n",
    "    q_mu1=MALA_proposal_mean(X,Y,beta1)\n",
    "    q_mu2=MALA_proposal_mean(X,Y,beta2)\n",
    "    #   prior density\n",
    "    p1=density_value(beta1,mu,var_)\n",
    "    p2=density_value(beta2,mu,var_)\n",
    "    # proposal density \n",
    "    q1=density_value(beta1,q_mu1,q_var)\n",
    "    q2=density_value(beta2,q_mu2,q_var)\n",
    "    rate= ee+ ((p2*q1)+ee)/((p1*q2)+ee)\n",
    "    return np.log(rate)"
   ]
  },
  {
   "cell_type": "code",
   "execution_count": 638,
   "metadata": {},
   "outputs": [
    {
     "data": {
      "text/plain": [
       "-0.0048024518094963945"
      ]
     },
     "execution_count": 638,
     "metadata": {},
     "output_type": "execute_result"
    }
   ],
   "source": [
    "MALA_aceptance_rate(np.zeros(k).reshape(k,1),beta_none)"
   ]
  },
  {
   "cell_type": "code",
   "execution_count": 639,
   "metadata": {},
   "outputs": [],
   "source": [
    "def MALA_one_iter(beta,X=X,Y=Y):\n",
    "    prop_beta=mala_drawner(X,Y,beta)\n",
    "    log_rate=MALA_aceptance_rate(beta,prop_beta,X=X,Y=Y)\n",
    "    u=np.random.uniform(0, 1)\n",
    "    ee=0.00001\n",
    "    if (log_rate>0) or (log_rate>np.log(u+ee)):\n",
    "        return prop_beta\n",
    "    else :\n",
    "        return beta\n",
    "     "
   ]
  },
  {
   "cell_type": "code",
   "execution_count": 640,
   "metadata": {},
   "outputs": [
    {
     "data": {
      "text/plain": [
       "(array([[0.01000864],\n",
       "        [0.0199887 ],\n",
       "        [0.03000819]]),\n",
       " array([[0.01],\n",
       "        [0.02],\n",
       "        [0.03]]))"
      ]
     },
     "execution_count": 640,
     "metadata": {},
     "output_type": "execute_result"
    }
   ],
   "source": [
    "MALA_one_iter(beta_none,X=X,Y=Y)[0:3],beta_none[0:3]"
   ]
  },
  {
   "cell_type": "code",
   "execution_count": 641,
   "metadata": {},
   "outputs": [],
   "source": [
    "def MALA_Run(X=X,Y=Y,B=1,initial_state=np.zeros(k).reshape(k,1)):\n",
    "    current_beta=initial_state\n",
    "    beta_chaine=[]\n",
    "    for i in range(B):\n",
    "        current_beta=MALA_one_iter(current_beta,X=X,Y=Y)\n",
    "        beta_chaine.append(current_beta)\n",
    "\n",
    "    return beta_chaine\n"
   ]
  },
  {
   "cell_type": "code",
   "execution_count": 642,
   "metadata": {},
   "outputs": [
    {
     "data": {
      "text/plain": [
       "(array([4.3402826e-05]), array([0.1]))"
      ]
     },
     "execution_count": 642,
     "metadata": {},
     "output_type": "execute_result"
    }
   ],
   "source": [
    "chaine_1=MALA_Run(B=1000)\n",
    "last_value1=chaine_1[-1]\n",
    "last_value1[-1],beta_none[-1]"
   ]
  },
  {
   "cell_type": "code",
   "execution_count": 643,
   "metadata": {},
   "outputs": [
    {
     "data": {
      "text/plain": [
       "(array([0.00023401]), array([0.1]))"
      ]
     },
     "execution_count": 643,
     "metadata": {},
     "output_type": "execute_result"
    }
   ],
   "source": [
    "chaine_2=MALA_Run(B=1000,initial_state=last_value1)\n",
    "last_value2=chaine_2[-1]\n",
    "last_value2[-1],beta_none[-1]"
   ]
  },
  {
   "cell_type": "code",
   "execution_count": 644,
   "metadata": {},
   "outputs": [
    {
     "data": {
      "text/plain": [
       "(array([-0.00019753]), array([0.1]))"
      ]
     },
     "execution_count": 644,
     "metadata": {},
     "output_type": "execute_result"
    }
   ],
   "source": [
    "chaine_3=MALA_Run(B=1000,initial_state=last_value2)\n",
    "last_value3=chaine_3[-1]\n",
    "last_value3[-1],beta_none[-1]"
   ]
  },
  {
   "cell_type": "code",
   "execution_count": 646,
   "metadata": {},
   "outputs": [
    {
     "data": {
      "text/plain": [
       "(array([-0.00059634]), array([0.1]))"
      ]
     },
     "execution_count": 646,
     "metadata": {},
     "output_type": "execute_result"
    }
   ],
   "source": [
    "chaine_4=MALA_Run(B=1000,initial_state=last_value3)\n",
    "last_value4=chaine_4[-1]\n",
    "last_value4[-1],beta_none[-1]"
   ]
  },
  {
   "cell_type": "code",
   "execution_count": 647,
   "metadata": {},
   "outputs": [
    {
     "data": {
      "text/plain": [
       "(array([-0.00068375]), array([0.1]))"
      ]
     },
     "execution_count": 647,
     "metadata": {},
     "output_type": "execute_result"
    }
   ],
   "source": [
    "chaine_5=MALA_Run(B=1000,initial_state=last_value4)\n",
    "last_value5=chaine_5[-1]\n",
    "last_value5[-1],beta_none[-1]"
   ]
  },
  {
   "cell_type": "code",
   "execution_count": 651,
   "metadata": {},
   "outputs": [
    {
     "data": {
      "text/plain": [
       "(array([0.00103031]), array([0.1]))"
      ]
     },
     "execution_count": 651,
     "metadata": {},
     "output_type": "execute_result"
    }
   ],
   "source": [
    "chaine_6=MALA_Run(B=10000,initial_state=last_value5)\n",
    "last_value6=chaine_6[-1]\n",
    "last_value6[-1],beta_none[-1]"
   ]
  },
  {
   "cell_type": "code",
   "execution_count": 504,
   "metadata": {},
   "outputs": [
    {
     "data": {
      "text/plain": [
       "(array([-9.95934872]), array([0.1]))"
      ]
     },
     "execution_count": 504,
     "metadata": {},
     "output_type": "execute_result"
    }
   ],
   "source": [
    "chaine_5=MALA_Run(B=5000,initial_state=last_value4)\n",
    "last_value5=chaine_5[-1]\n",
    "last_value5[-1],beta_none[-1]"
   ]
  },
  {
   "cell_type": "code",
   "execution_count": 459,
   "metadata": {},
   "outputs": [
    {
     "data": {
      "text/plain": [
       "(array([5.08413307e-05]), array([0.1]))"
      ]
     },
     "execution_count": 459,
     "metadata": {},
     "output_type": "execute_result"
    }
   ],
   "source": [
    "chaine_6=MALA_Run(B=1000,initial_state=last_value5)\n",
    "last_value6=chaine_6[-1]\n",
    "last_value6[-1],beta_none[-1]"
   ]
  },
  {
   "cell_type": "code",
   "execution_count": 685,
   "metadata": {},
   "outputs": [
    {
     "data": {
      "text/plain": [
       "(array([0.00160498]), array([0.1]))"
      ]
     },
     "execution_count": 685,
     "metadata": {},
     "output_type": "execute_result"
    }
   ],
   "source": [
    "chaine_7=MALA_Run(B=1000,initial_state=last_value6)\n",
    "last_value7=chaine_7[-1]\n",
    "last_value7[-1],beta_none[-1]"
   ]
  },
  {
   "cell_type": "code",
   "execution_count": 686,
   "metadata": {},
   "outputs": [
    {
     "data": {
      "text/plain": [
       "(array([0.00255762]), array([0.1]))"
      ]
     },
     "execution_count": 686,
     "metadata": {},
     "output_type": "execute_result"
    }
   ],
   "source": [
    "chaine_8=MALA_Run(B=1000,initial_state=last_value7)\n",
    "last_value8=chaine_8[-1]\n",
    "last_value8[-1],beta_none[-1]"
   ]
  },
  {
   "cell_type": "code",
   "execution_count": 687,
   "metadata": {},
   "outputs": [
    {
     "data": {
      "text/plain": [
       "(array([0.00224504]), array([0.1]))"
      ]
     },
     "execution_count": 687,
     "metadata": {},
     "output_type": "execute_result"
    }
   ],
   "source": [
    "chaine_9=MALA_Run(B=1000,initial_state=last_value8)\n",
    "last_value9=chaine_9[-1]\n",
    "last_value9[-1],beta_none[-1]"
   ]
  },
  {
   "cell_type": "code",
   "execution_count": 688,
   "metadata": {},
   "outputs": [
    {
     "data": {
      "text/plain": [
       "(array([0.00201298]), array([0.1]))"
      ]
     },
     "execution_count": 688,
     "metadata": {},
     "output_type": "execute_result"
    }
   ],
   "source": [
    "chaine_10=MALA_Run(B=1000,initial_state=last_value9)\n",
    "last_value10=chaine_10[-1]\n",
    "last_value10[-1],beta_none[-1]"
   ]
  },
  {
   "cell_type": "code",
   "execution_count": 689,
   "metadata": {},
   "outputs": [
    {
     "data": {
      "text/plain": [
       "(array([0.00209686]), array([0.1]))"
      ]
     },
     "execution_count": 689,
     "metadata": {},
     "output_type": "execute_result"
    }
   ],
   "source": [
    "chaine_11=MALA_Run(B=1000,initial_state=last_value10)\n",
    "last_value11=chaine_11[-1]\n",
    "last_value11[-1],beta_none[-1]"
   ]
  },
  {
   "cell_type": "code",
   "execution_count": 684,
   "metadata": {},
   "outputs": [
    {
     "data": {
      "text/plain": [
       "(array([143., 153., 126., 260., 222., 258., 275., 251., 154., 158.]),\n",
       " array([0.00088904, 0.00095409, 0.00101915, 0.0010842 , 0.00114925,\n",
       "        0.00121431, 0.00127936, 0.00134441, 0.00140946, 0.00147452,\n",
       "        0.00153957]),\n",
       " <BarContainer object of 10 artists>)"
      ]
     },
     "execution_count": 684,
     "metadata": {},
     "output_type": "execute_result"
    },
    {
     "data": {
      "image/png": "[encoded data removed]",
      "text/plain": [
       "<Figure size 640x480 with 1 Axes>"
      ]
     },
     "metadata": {},
     "output_type": "display_data"
    }
   ],
   "source": []
  }
 ],
 "metadata": {
  "kernelspec": {
   "display_name": "base",
   "language": "python",
   "name": "python3"
  },
  "language_info": {
   "codemirror_mode": {
    "name": "ipython",
    "version": 3
   },
   "file_extension": ".py",
   "mimetype": "text/x-python",
   "name": "python",
   "nbconvert_exporter": "python",
   "pygments_lexer": "ipython3",
   "version": "3.11.6"
  }
 },
 "nbformat": 4,
 "nbformat_minor": 2
}
