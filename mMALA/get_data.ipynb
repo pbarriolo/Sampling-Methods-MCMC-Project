{
 "cells": [
  {
   "cell_type": "code",
   "execution_count": 3,
   "metadata": {},
   "outputs": [],
   "source": []
  },
  {
   "cell_type": "code",
   "execution_count": 4,
   "metadata": {},
   "outputs": [],
   "source": []
  },
  {
   "cell_type": "markdown",
   "metadata": {},
   "source": [
    "# 1 Generate X"
   ]
  },
  {
   "cell_type": "code",
   "execution_count": 6,
   "metadata": {},
   "outputs": [],
   "source": [
    "N=250\n",
    "k=20\n",
    "def get_covariate_data(N=N,k=k):\n",
    "    data=np.random.randn(N,k)\n",
    "\n",
    "    return data"
   ]
  },
  {
   "cell_type": "code",
   "execution_count": 9,
   "metadata": {},
   "outputs": [],
   "source": [
    "data=get_covariate_data(5,2)"
   ]
  },
  {
   "cell_type": "code",
   "execution_count": 19,
   "metadata": {},
   "outputs": [],
   "source": [
    "def indicator_fun(x):\n",
    "    if x >= 0:\n",
    "        return 1\n",
    "    else:\n",
    "         return 0"
   ]
  },
  {
   "cell_type": "code",
   "execution_count": 62,
   "metadata": {},
   "outputs": [],
   "source": [
    "k=2\n",
    "N=5\n",
    "teta=np.array([i/k for i in range(k)])\n",
    "def get_output(data,teta):\n",
    "    noise_value=np.random.randn(N).reshape(N,1)\n",
    "    teta=teta.reshape(k,1)\n",
    "    data=data.reshape(N,k)\n",
    "    value_=data@teta   #+noise_value\n",
    "    Y=np.array([indicator_fun(value_[i]) for i in range(N)])\n",
    "    return Y "
   ]
  },
  {
   "cell_type": "code",
   "execution_count": 63,
   "metadata": {},
   "outputs": [
    {
     "data": {
      "text/plain": [
       "array([0, 0, 0, 1, 0])"
      ]
     },
     "execution_count": 63,
     "metadata": {},
     "output_type": "execute_result"
    }
   ],
   "source": [
    "get_output(data,teta)"
   ]
  },
  {
   "cell_type": "markdown",
   "metadata": {},
   "source": []
  },
  {
   "cell_type": "markdown",
   "metadata": {},
   "source": [
    "# I Manifold MALA Alogrithsm"
   ]
  },
  {
   "cell_type": "code",
   "execution_count": null,
   "metadata": {},
   "outputs": [],
   "source": [
    "def get_mMALA_MarkovCHaine(Y,Y,B=1000):\n",
    "    N,k=\n",
    "    mc_teta=np.zeros(B,)"
   ]
  }
 ],
 "metadata": {
  "kernelspec": {
   "display_name": "mMALA_virtual_env",
   "language": "python",
   "name": "mmala_virtual_env"
  },
  "language_info": {
   "codemirror_mode": {
    "name": "ipython",
    "version": 3
   },
   "file_extension": ".py",
   "mimetype": "text/x-python",
   "name": "python",
   "nbconvert_exporter": "python",
   "pygments_lexer": "ipython3",
   "version": "3.11.6"
  }
 },
 "nbformat": 4,
 "nbformat_minor": 2
}
