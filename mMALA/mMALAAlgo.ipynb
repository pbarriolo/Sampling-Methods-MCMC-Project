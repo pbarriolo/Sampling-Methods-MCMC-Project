{
 "cells": [
  {
   "cell_type": "markdown",
   "metadata": {},
   "source": [
    "# 1 Import and Init"
   ]
  },
  {
   "cell_type": "code",
   "execution_count": 192,
   "metadata": {},
   "outputs": [],
   "source": [
    "import numpy as np"
   ]
  },
  {
   "cell_type": "code",
   "execution_count": 25,
   "metadata": {},
   "outputs": [],
   "source": [
    "python_interpretator=\"/home/onyxia/work/Sampling-Methods-MCMC-Project/Manifold_MALA/mMALA_Vistual_Env/bin/python\""
   ]
  },
  {
   "cell_type": "markdown",
   "metadata": {},
   "source": [
    "2. Set mMALA Requirement Function"
   ]
  },
  {
   "cell_type": "code",
   "execution_count": 197,
   "metadata": {},
   "outputs": [],
   "source": [
    "def log_likelihood(X,Y,beta_):\n",
    "    N,k=X.shape\n",
    "    beta_T=beta_.transpose()\n",
    "    X_T=X.transpose()\n",
    "\n",
    "    log_likeli=np.round((beta_T@X_T)@Y,5)\n",
    "\n",
    "    for n in range(N):\n",
    "        log_likeli=log_likeli-np.log(1+np.round(np.exp(beta_T@(X[n,:])).transpose(),5))\n",
    "\n",
    "    return np.round(log_likeli,5)\n"
   ]
  },
  {
   "cell_type": "code",
   "execution_count": 198,
   "metadata": {},
   "outputs": [
    {
     "name": "stdout",
     "output_type": "stream",
     "text": [
      "(500, 2) (500,) (2,)\n"
     ]
    }
   ],
   "source": [
    "# application\n",
    "X=np.random.randn(500,2)\n",
    "Y=np.random.randn(500)#.reshape(3,1)\n",
    "beta_=np.ones(2)#.reshape(3,1)\n",
    "\n",
    "print(X.shape,Y.shape,beta_.shape)\n"
   ]
  },
  {
   "cell_type": "code",
   "execution_count": 196,
   "metadata": {},
   "outputs": [
    {
     "data": {
      "text/plain": [
       "3.3389503602019503e+199"
      ]
     },
     "execution_count": 196,
     "metadata": {},
     "output_type": "execute_result"
    }
   ],
   "source": [
    "ll=log_likelihood(X,Y,beta_)\n",
    "np.exp(-ll)"
   ]
  },
  {
   "cell_type": "code",
   "execution_count": 199,
   "metadata": {},
   "outputs": [],
   "source": [
    "k=2\n",
    "mu=np.zeros(k)\n",
    "variance_=np.identity(k)\n",
    "sigma_square=1  # \" dans la papier sigma_square=100\"\n",
    "def get_densite_value(betha_,mu=mu,variance_=sigma_square*np.identity(k)):\n",
    "    k=len(beta_)\n",
    "    det_=np.linalg.det(variance_)\n",
    "    inv_variance_=np.linalg.inv(variance_)\n",
    "    gap=betha_-mu\n",
    "    gap_T=gap.transpose()\n",
    "    pi_=np.round(np.pi,3)\n",
    "    const1=np.sqrt(((2*pi_)**(k)))\n",
    "    normalisation_constante=np.round((1/(const1*det_)),3)\n",
    "    value=(-1/2)*(gap@inv_variance_@gap_T)\n",
    "    densite_value=normalisation_constante*np.exp(value)\n",
    "\n",
    "    return np.round(densite_value,5)"
   ]
  },
  {
   "cell_type": "code",
   "execution_count": 201,
   "metadata": {},
   "outputs": [
    {
     "data": {
      "text/plain": [
       "0.05849"
      ]
     },
     "execution_count": 201,
     "metadata": {},
     "output_type": "execute_result"
    }
   ],
   "source": [
    "get_densite_value(beta_)"
   ]
  },
  {
   "cell_type": "code",
   "execution_count": 202,
   "metadata": {},
   "outputs": [
    {
     "data": {
      "text/plain": [
       "0.9990264638415542"
      ]
     },
     "execution_count": 202,
     "metadata": {},
     "output_type": "execute_result"
    }
   ],
   "source": [
    "beta2=np.zeros(2)\n",
    "get_densite_value(beta2)*2*np.pi  "
   ]
  },
  {
   "cell_type": "code",
   "execution_count": 229,
   "metadata": {},
   "outputs": [],
   "source": [
    "def link_fun_value(X_i,betha_):\n",
    "    betha_T=betha_.transpose()\n",
    "    X_i_T=X_i.transpose()\n",
    "    x=betha_T@X_i_T\n",
    "    value1=np.round(np.exp(-x),5)\n",
    "    value=1/(1+value1)\n",
    "    return np.round(value,3)"
   ]
  },
  {
   "cell_type": "code",
   "execution_count": 231,
   "metadata": {},
   "outputs": [
    {
     "data": {
      "text/plain": [
       "(0.586, 0.037)"
      ]
     },
     "execution_count": 231,
     "metadata": {},
     "output_type": "execute_result"
    }
   ],
   "source": [
    "X_1=X[2]\n",
    "link_fun_value(X[1],beta_),link_fun_value(X[2],beta_)"
   ]
  },
  {
   "cell_type": "code",
   "execution_count": 232,
   "metadata": {},
   "outputs": [],
   "source": [
    "def get_Lambda_Matrix(X,betha_):\n",
    "    N=X.shape[0]\n",
    "    left_real_values=[link_fun_value(X[i,:],betha_) for i in range(N)]\n",
    "    real_values=[left_real_values[i]*(1-left_real_values[i]) for i in range(N)]\n",
    "    Lambda_matrix=np.diag(real_values)\n",
    "\n",
    "    return Lambda_matrix\n"
   ]
  },
  {
   "cell_type": "code",
   "execution_count": 233,
   "metadata": {},
   "outputs": [
    {
     "data": {
      "text/plain": [
       "array([[0.110871, 0.      , 0.      , ..., 0.      , 0.      , 0.      ],\n",
       "       [0.      , 0.242604, 0.      , ..., 0.      , 0.      , 0.      ],\n",
       "       [0.      , 0.      , 0.035631, ..., 0.      , 0.      , 0.      ],\n",
       "       ...,\n",
       "       [0.      , 0.      , 0.      , ..., 0.175471, 0.      , 0.      ],\n",
       "       [0.      , 0.      , 0.      , ..., 0.      , 0.161196, 0.      ],\n",
       "       [0.      , 0.      , 0.      , ..., 0.      , 0.      , 0.080256]])"
      ]
     },
     "execution_count": 233,
     "metadata": {},
     "output_type": "execute_result"
    }
   ],
   "source": [
    "Lambda_Matrix=get_Lambda_Matrix(X,beta_)\n",
    "Lambda_Matrix"
   ]
  },
  {
   "cell_type": "code",
   "execution_count": 236,
   "metadata": {},
   "outputs": [],
   "source": [
    "def Tensor_metric_G(X,beta_,sigma_square=1):\n",
    "    k=len(beta_)\n",
    "    Lambda_Matrix=get_Lambda_Matrix(X,beta_)\n",
    "    X_t=X.transpose()\n",
    "    G_of_beta=X_t@(Lambda_Matrix@X)-sigma_square*np.identity(k)\n",
    "\n",
    "    return G_of_beta"
   ]
  },
  {
   "cell_type": "code",
   "execution_count": 237,
   "metadata": {},
   "outputs": [
    {
     "data": {
      "text/plain": [
       "array([[ 61.36991775, -14.44163116],\n",
       "       [-14.44163116,  62.92446147]])"
      ]
     },
     "execution_count": 237,
     "metadata": {},
     "output_type": "execute_result"
    }
   ],
   "source": [
    "G_of_beta=Tensor_metric_G(X,beta_)\n",
    "G_of_beta"
   ]
  },
  {
   "cell_type": "code",
   "execution_count": 238,
   "metadata": {},
   "outputs": [],
   "source": [
    "def compute_V_i(X,i,beta_):\n",
    "    N=X.shape[0]\n",
    "    diag_elts=[(1-2*link_fun_value(X[n],beta_))*X[n,i] for n in range(N)]\n",
    "    V_i_Matrix=np.diag(diag_elts)\n",
    "    return V_i_Matrix"
   ]
  },
  {
   "cell_type": "code",
   "execution_count": 239,
   "metadata": {},
   "outputs": [
    {
     "data": {
      "text/plain": [
       "array([[-0.00244335,  0.        ,  0.        , ...,  0.        ,\n",
       "         0.        ,  0.        ],\n",
       "       [ 0.        , -0.03436258,  0.        , ...,  0.        ,\n",
       "         0.        ,  0.        ],\n",
       "       [ 0.        ,  0.        , -2.38744923, ...,  0.        ,\n",
       "         0.        ,  0.        ],\n",
       "       ...,\n",
       "       [ 0.        ,  0.        ,  0.        , ...,  0.47491697,\n",
       "         0.        ,  0.        ],\n",
       "       [ 0.        ,  0.        ,  0.        , ...,  0.        ,\n",
       "        -0.20829766,  0.        ],\n",
       "       [ 0.        ,  0.        ,  0.        , ...,  0.        ,\n",
       "         0.        , -0.31900335]])"
      ]
     },
     "execution_count": 239,
     "metadata": {},
     "output_type": "execute_result"
    }
   ],
   "source": [
    "i=0\n",
    "compute_V_i(X,i,beta_)"
   ]
  },
  {
   "cell_type": "code",
   "execution_count": 240,
   "metadata": {},
   "outputs": [],
   "source": [
    "def get_G_partial_derivative(X,i,beta_):\n",
    "    X_t=X.transpose()\n",
    "    Lambda_Matrix=get_Lambda_Matrix(X,beta_)\n",
    "    V_i_Matrix=compute_V_i(X,i,beta_)\n",
    "    G_partial_derivative_Matrix=X_t@Lambda_Matrix@V_i_Matrix@X\n",
    "\n",
    "    return G_partial_derivative_Matrix\n"
   ]
  },
  {
   "cell_type": "code",
   "execution_count": 241,
   "metadata": {},
   "outputs": [
    {
     "data": {
      "text/plain": [
       "array([[-40.39677727,  -6.13410437],\n",
       "       [ -6.13410437,  -7.74691488]])"
      ]
     },
     "execution_count": 241,
     "metadata": {},
     "output_type": "execute_result"
    }
   ],
   "source": [
    "G_partial_derivative_Matrix=get_G_partial_derivative(X,i,beta_)\n",
    "G_partial_derivative_Matrix"
   ]
  },
  {
   "cell_type": "code",
   "execution_count": 149,
   "metadata": {},
   "outputs": [
    {
     "data": {
      "text/plain": [
       "array([[0., 0.],\n",
       "       [0., 0.],\n",
       "       [0., 0.]])"
      ]
     },
     "execution_count": 149,
     "metadata": {},
     "output_type": "execute_result"
    }
   ],
   "source": [
    "x=np.zeros((2,3))\n",
    "x.transpose()"
   ]
  },
  {
   "cell_type": "code",
   "execution_count": 242,
   "metadata": {},
   "outputs": [],
   "source": [
    "def Log_likelihood_gradient(X,Y,beta_):\n",
    "    N=X.shape[0]\n",
    "    X_Transpose=X.transpose()\n",
    "    X_n=np.zeros(k)\n",
    "    gradien_value=X_Transpose@Y\n",
    "    for n in range(N):\n",
    "        X_n=X[n,:]\n",
    "        gradien_value=gradien_value-link_fun_value(X_n,beta_)*(X_n.transpose())\n",
    "\n",
    "    return gradien_value\n"
   ]
  },
  {
   "cell_type": "code",
   "execution_count": 243,
   "metadata": {},
   "outputs": [
    {
     "data": {
      "text/plain": [
       "array([ -65.45359288, -146.8046665 ])"
      ]
     },
     "execution_count": 243,
     "metadata": {},
     "output_type": "execute_result"
    }
   ],
   "source": [
    "gradien_value=Log_likelihood_gradient(X,Y,beta_)\n",
    "gradien_value"
   ]
  },
  {
   "cell_type": "code",
   "execution_count": 247,
   "metadata": {},
   "outputs": [],
   "source": [
    "def proposal_Distribution_mean(X,Y,beta_,learning_rate):\n",
    "    N,k=X.shape\n",
    "    e=learning_rate\n",
    "    G=Tensor_metric_G(X,beta_)\n",
    "    inv_G=np.linalg.inv(G)\n",
    "\n",
    "    term2=(1/2)*(e**2)*inv_G@Log_likelihood_gradient(X,Y,beta_)\n",
    "    term3=np.zeros(k)\n",
    "    term4=np.zeros(k)\n",
    "    for j in range(k):\n",
    "        term3=term3-(e**2)*(inv_G@get_G_partial_derivative(X,j,beta_)@inv_G)[:,j]\n",
    "    for j in range(k):\n",
    "        terme4=term4+(e**2)*inv_G[:,j]*np.trace(inv_G@get_G_partial_derivative(X,j,beta_))\n",
    "\n",
    "    proposal_mean=beta_+term2+term3+term4\n",
    "    return proposal_mean\n",
    "    "
   ]
  },
  {
   "cell_type": "code",
   "execution_count": 248,
   "metadata": {},
   "outputs": [
    {
     "data": {
      "text/plain": [
       "array([ 0.16461271, -0.34439983])"
      ]
     },
     "execution_count": 248,
     "metadata": {},
     "output_type": "execute_result"
    }
   ],
   "source": [
    "proposal_mean=proposal_Distribution_mean(X,Y,beta_,learning_rate=1)\n",
    "proposal_mean"
   ]
  },
  {
   "cell_type": "code",
   "execution_count": 249,
   "metadata": {},
   "outputs": [],
   "source": [
    "def get_matrix_sqrt(X):\n",
    "    U, s, V = np.linalg.svd(X)\n",
    "\n",
    "# Racine carrée des valeurs singulières\n",
    "    s_sqrt = np.sqrt(s)\n",
    "\n",
    "# Reconstruction de la matrice racine carrée\n",
    "    X_sqrt = U.dot(np.diag(s_sqrt)).dot(V)\n",
    "\n",
    "    return X_sqrt"
   ]
  },
  {
   "cell_type": "code",
   "execution_count": 251,
   "metadata": {},
   "outputs": [],
   "source": [
    "def proposal_Distribution_variance_matrix_fun(X,beta_,sigma_square,learning_rate):\n",
    "    e=learning_rate\n",
    "    G=Tensor_metric_G(X,beta_)\n",
    "    inv_G=np.linalg.inv(G)\n",
    "    inv_G_sqrt=get_matrix_sqrt(inv_G)\n",
    "    \n",
    "    return e*inv_G_sqrt"
   ]
  },
  {
   "cell_type": "code",
   "execution_count": 252,
   "metadata": {},
   "outputs": [],
   "source": [
    "def beta_drawner(X,Y,beta_,learning_rate=1):\n",
    "    e=learning_rate\n",
    "    N,k=X.shape\n",
    "    mean_=proposal_Distribution_mean(X,Y,beta_,learning_rate=e)\n",
    "    variance=e*proposal_Distribution_variance_matrix_fun(X,beta_,sigma_square,learning_rate)\n",
    "    Z=np.random.randn(k)\n",
    "    proposed_teta=+variance@Z\n",
    "    \n",
    "    return proposed_teta"
   ]
  },
  {
   "cell_type": "code",
   "execution_count": 253,
   "metadata": {},
   "outputs": [
    {
     "data": {
      "text/plain": [
       "array([0.07491145, 0.03382943])"
      ]
     },
     "execution_count": 253,
     "metadata": {},
     "output_type": "execute_result"
    }
   ],
   "source": [
    "thetaStart=beta_drawner(X,Y,beta_,learning_rate=1)\n",
    "thetaStart"
   ]
  },
  {
   "cell_type": "code",
   "execution_count": 254,
   "metadata": {},
   "outputs": [],
   "source": [
    "k=2\n",
    "sigma_square=1\n",
    "def Acceptance_Rati(thetaStart, theta_,X,Y,mu_prior=np.zeros(k),variance_=sigma_square*np.identity(k),learning_rate=1):\n",
    "    LL_theta=log_likelihood(X,Y,theta_)\n",
    "    LL_theta_start=log_likelihood(X,Y,thetaStart)\n",
    "\n",
    "    teta_mu_proposal=proposal_Distribution_mean(X,Y,thetaStart,learning_rate)\n",
    "    teta_variance_propsal=proposal_Distribution_variance_matrix_fun(X,thetaStart,sigma_square,learning_rate)\n",
    "    tetaStart_mu_proposal=proposal_Distribution_mean(X,Y,beta_,learning_rate)\n",
    "    tetaStar_variance_propsal=proposal_Distribution_variance_matrix_fun(X,beta_,sigma_square,learning_rate)\n",
    "\n",
    "    \n",
    "    p_teta=get_densite_value(theta_,mu=mu_prior,variance_=variance_)\n",
    "    q_teta=get_densite_value(theta_,mu=teta_mu_proposal,variance_=teta_variance_propsal)\n",
    "\n",
    "    p_teta_start=get_densite_value(theta_,mu=mu_prior,variance_=variance_)\n",
    "    q_teta_start=get_densite_value(theta_,mu=tetaStart_mu_proposal,variance_=tetaStar_variance_propsal)\n",
    "\n",
    "    acceptance_rate=np.round(LL_theta_start+np.log(p_teta_start)+np.log(q_teta_start)-LL_theta-np.log(p_teta)-np.log(q_teta),5)\n",
    "\n",
    "    return acceptance_rate\n",
    "\n",
    "\n",
    "\n"
   ]
  },
  {
   "cell_type": "code",
   "execution_count": 255,
   "metadata": {},
   "outputs": [
    {
     "data": {
      "text/plain": [
       "139.79779"
      ]
     },
     "execution_count": 255,
     "metadata": {},
     "output_type": "execute_result"
    }
   ],
   "source": [
    "\n",
    "acceptance_rate_=Acceptance_Rati(thetaStart, beta_,X,Y,mu_prior=np.zeros(k),variance_=sigma_square*np.identity(k),learning_rate=1)\n",
    "acceptance_rate_"
   ]
  },
  {
   "cell_type": "code",
   "execution_count": 93,
   "metadata": {},
   "outputs": [],
   "source": []
  },
  {
   "cell_type": "code",
   "execution_count": 256,
   "metadata": {},
   "outputs": [
    {
     "data": {
      "text/plain": [
       "array([-0.09951605, -0.11992885])"
      ]
     },
     "execution_count": 256,
     "metadata": {},
     "output_type": "execute_result"
    }
   ],
   "source": [
    "proposed_beta=beta_drawner(X,Y,beta_,learning_rate=1)\n",
    "proposed_beta\n"
   ]
  },
  {
   "cell_type": "code",
   "execution_count": null,
   "metadata": {},
   "outputs": [],
   "source": [
    "\"\" puique les deux lois proposal and prior sont des loi de normales alors , on a beasoin d'implémenter une fonction\n",
    "calcul le log prior pour la loi propsal , on juste utiliser celle basée sur la loi à priori en définisant la moyenne et la \n",
    "variance des dlois comme des arguments .\""
   ]
  },
  {
   "cell_type": "code",
   "execution_count": 257,
   "metadata": {},
   "outputs": [],
   "source": [
    "def one_step_mMALA(X,Y,beta_,learning):\n",
    "    # sample new teta base on the previous teta\n",
    "    N,k=X.shape\n",
    "    thetaStart=beta_drawner(X,Y,beta_,learning_rate=1)\n",
    "    acceptance_rate_=Acceptance_Rati(thetaStart, beta_,X,Y,mu_prior=np.zeros(k),variance_=sigma_square*np.identity(k),learning_rate=1)\n",
    "    rand=np.random.uniform(0, 1)\n",
    "    if (acceptance_rate_>0) or (acceptance_rate_>np.log(rand)):\n",
    "        return thetaStart\n",
    "    else:\n",
    "        return beta_"
   ]
  },
  {
   "cell_type": "markdown",
   "metadata": {},
   "source": [
    "# 0 DGP "
   ]
  },
  {
   "cell_type": "code",
   "execution_count": 260,
   "metadata": {},
   "outputs": [],
   "source": [
    "seed=1996\n",
    "np.random.seed(seed)\n",
    "rd.seed(seed)"
   ]
  },
  {
   "cell_type": "code",
   "execution_count": 261,
   "metadata": {},
   "outputs": [],
   "source": [
    "import  numpy as np \n",
    "import random as rd "
   ]
  },
  {
   "cell_type": "code",
   "execution_count": 262,
   "metadata": {},
   "outputs": [],
   "source": [
    "N=500\n",
    "k=2\n",
    "def get_covariate_data(N=N,k=k):\n",
    "    data=np.random.randn(N,k)\n",
    "\n",
    "    return data"
   ]
  },
  {
   "cell_type": "code",
   "execution_count": 263,
   "metadata": {},
   "outputs": [],
   "source": [
    "def indicator_fun(x):\n",
    "    if x >= 0:\n",
    "        return 1\n",
    "    else:\n",
    "         return 0"
   ]
  },
  {
   "cell_type": "code",
   "execution_count": 264,
   "metadata": {},
   "outputs": [],
   "source": [
    "X=get_covariate_data(N,k)"
   ]
  },
  {
   "cell_type": "code",
   "execution_count": 265,
   "metadata": {},
   "outputs": [
    {
     "data": {
      "text/plain": [
       "(500, 2)"
      ]
     },
     "execution_count": 265,
     "metadata": {},
     "output_type": "execute_result"
    }
   ],
   "source": [
    "X.shape"
   ]
  },
  {
   "cell_type": "code",
   "execution_count": 266,
   "metadata": {},
   "outputs": [],
   "source": [
    "\n",
    "N,k=X.shape\n",
    "teta=np.array([i/k for i in range(k)])\n",
    "def get_output(data,teta):\n",
    "    noise_value=np.random.randn(N).reshape(N,1)\n",
    "    teta=teta.reshape(k,1)\n",
    "    data=data.reshape(N,k)\n",
    "    value_=data@teta   #+noise_value\n",
    "    Y=np.array([indicator_fun(value_[i]) for i in range(N)])\n",
    "    return Y "
   ]
  },
  {
   "cell_type": "code",
   "execution_count": 267,
   "metadata": {},
   "outputs": [
    {
     "data": {
      "text/plain": [
       "(500,)"
      ]
     },
     "execution_count": 267,
     "metadata": {},
     "output_type": "execute_result"
    }
   ],
   "source": [
    "Y=get_output(X,teta)\n",
    "Y.shape"
   ]
  },
  {
   "cell_type": "code",
   "execution_count": 268,
   "metadata": {},
   "outputs": [
    {
     "data": {
      "text/plain": [
       "(array([[-0.57285766,  0.15460676],\n",
       "        [ 1.88962132, -0.61375061],\n",
       "        [-0.19281915, -0.48191554],\n",
       "        [ 1.33225346,  0.17746124],\n",
       "        [-0.36277234,  0.33420864]]),\n",
       " array([1, 0, 0, 1, 1]))"
      ]
     },
     "execution_count": 268,
     "metadata": {},
     "output_type": "execute_result"
    }
   ],
   "source": [
    "X[0:5],Y[0:5]"
   ]
  },
  {
   "cell_type": "markdown",
   "metadata": {},
   "source": [
    "# I Manifold MALA Alogrithsm"
   ]
  },
  {
   "cell_type": "code",
   "execution_count": 269,
   "metadata": {},
   "outputs": [],
   "source": [
    "def get_mMALA_MarkovCHaine(X,Y,B=1000):\n",
    "    N,k=X.shape\n",
    "    theta_current=np.zeros(k)\n",
    "    mc_teta=[]\n",
    "    for b in range(B):\n",
    "        theta_current=one_step_mMALA(X,Y,theta_current,learning=0.1)\n",
    "        mc_teta.append(theta_current)    \n",
    "    return   mc_teta"
   ]
  },
  {
   "cell_type": "code",
   "execution_count": 274,
   "metadata": {},
   "outputs": [],
   "source": [
    "Markov_Chaine=get_mMALA_MarkovCHaine(X,Y,B=100)\n"
   ]
  },
  {
   "cell_type": "code",
   "execution_count": 279,
   "metadata": {},
   "outputs": [],
   "source": [
    "def predictor(X,teta_hat):\n",
    "    N=X.shape[0]\n",
    "    Pred_Probas=np.zeros(N)\n",
    "    Y_pred=np.zeros(N)\n",
    "    for i in range(N):\n",
    "        Pred_Probas[i]=link_fun_value(X[i],teta_hat)\n",
    "        Y_pred[i]=indicator_fun(Pred_Probas[i]-0.5)\n",
    "\n",
    "    return Y_pred"
   ]
  },
  {
   "cell_type": "code",
   "execution_count": 283,
   "metadata": {},
   "outputs": [],
   "source": [
    "# Exemple de données de prédiction et de vraies étiquettes\n",
    "beta_hat=Markov_Chaine[-1]\n",
    "y_true = Y[0:20]\n",
    "y_pred = predictor(X[0:20],teta)\n"
   ]
  },
  {
   "cell_type": "code",
   "execution_count": 284,
   "metadata": {},
   "outputs": [
    {
     "data": {
      "image/png": "[encoded data removed]",
      "text/plain": [
       "<Figure size 800x600 with 1 Axes>"
      ]
     },
     "metadata": {},
     "output_type": "display_data"
    }
   ],
   "source": [
    "import numpy as np\n",
    "import matplotlib.pyplot as plt\n",
    "from sklearn.metrics import confusion_matrix\n",
    "import seaborn as sns\n",
    "\n",
    "\n",
    "\n",
    "# Calculer la matrice de confusion\n",
    "conf_matrix = confusion_matrix(y_true, y_pred)\n",
    "\n",
    "# Étiquettes des classes\n",
    "class_names = ['Classe 0', 'Classe 1']\n",
    "\n",
    "# Tracer la matrice de confusion\n",
    "plt.figure(figsize=(8, 6))\n",
    "sns.set(font_scale=1.2)  # Ajuster la taille de la police\n",
    "sns.heatmap(conf_matrix, annot=True, fmt='d', cmap='Blues', cbar=False, annot_kws={\"size\": 14}, xticklabels=class_names, yticklabels=class_names)\n",
    "plt.xlabel('Classe prédite')\n",
    "plt.ylabel('Classe réelle')\n",
    "plt.title('Matrice de confusion')\n",
    "plt.show()\n"
   ]
  }
 ],
 "metadata": {
  "kernelspec": {
   "display_name": "mMALA_virtual_env",
   "language": "python",
   "name": "mmala_virtual_env"
  },
  "language_info": {
   "codemirror_mode": {
    "name": "ipython",
    "version": 3
   },
   "file_extension": ".py",
   "mimetype": "text/x-python",
   "name": "python",
   "nbconvert_exporter": "python",
   "pygments_lexer": "ipython3",
   "version": "3.11.6"
  }
 },
 "nbformat": 4,
 "nbformat_minor": 2
}
