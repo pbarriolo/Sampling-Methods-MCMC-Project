{
 "cells": [
  {
   "cell_type": "markdown",
   "metadata": {},
   "source": [
    "# 1 Import and Init"
   ]
  },
  {
   "cell_type": "code",
   "execution_count": 2,
   "metadata": {},
   "outputs": [],
   "source": [
    "import numpy as np\n",
    "import matplotlib.pyplot as plt\n",
    "import random \n",
    "seed=1996\n",
    "np.random.seed(seed)\n",
    "random.seed(seed)"
   ]
  },
  {
   "cell_type": "code",
   "execution_count": 3,
   "metadata": {},
   "outputs": [
    {
     "data": {
      "text/plain": [
       "array([[0.02],\n",
       "       [0.03]])"
      ]
     },
     "execution_count": 3,
     "metadata": {},
     "output_type": "execute_result"
    }
   ],
   "source": [
    "N,k=150,10\n",
    "learning_rate=0.001\n",
    "mu=np.zeros(k)\n",
    "sigma=2 # \" dans la papier sigma_square=100\"\n",
    "std=sigma*np.identity(k)\n",
    "beta_none=np.array([(i+1)/100 for i in range(k) ]).reshape(k,1)\n",
    "X=np.random.randn(N,k)\n",
    "B=10000\n",
    "beta_none[1:3]"
   ]
  },
  {
   "cell_type": "code",
   "execution_count": 4,
   "metadata": {},
   "outputs": [],
   "source": [
    "min_=np.mean(X,axis=0)\n",
    "max_=np.max(X,axis=0)\n",
    "X=(X-min_)/max_-min_"
   ]
  },
  {
   "cell_type": "markdown",
   "metadata": {},
   "source": [
    "#  2 DGP"
   ]
  },
  {
   "cell_type": "code",
   "execution_count": 5,
   "metadata": {},
   "outputs": [],
   "source": [
    "def indicator(x,threshold=0) :\n",
    "    if x>=threshold:\n",
    "        return int(1)\n",
    "    else:\n",
    "            return int(0)"
   ]
  },
  {
   "cell_type": "code",
   "execution_count": 6,
   "metadata": {},
   "outputs": [
    {
     "data": {
      "text/plain": [
       "((150, 10), (10, 1))"
      ]
     },
     "execution_count": 6,
     "metadata": {},
     "output_type": "execute_result"
    }
   ],
   "source": [
    "X.shape,beta_none.shape"
   ]
  },
  {
   "cell_type": "code",
   "execution_count": 7,
   "metadata": {},
   "outputs": [],
   "source": [
    "Y=np.zeros(N).reshape(N,1)\n",
    "for i in range(N):\n",
    "    z=np.random.randn(1)\n",
    "    Y[i]=indicator(np.dot(X[i],beta_none))"
   ]
  },
  {
   "cell_type": "code",
   "execution_count": 8,
   "metadata": {},
   "outputs": [
    {
     "data": {
      "text/plain": [
       "(array([79.,  0.,  0.,  0.,  0.,  0.,  0.,  0.,  0., 71.]),\n",
       " array([0. , 0.1, 0.2, 0.3, 0.4, 0.5, 0.6, 0.7, 0.8, 0.9, 1. ]),\n",
       " <BarContainer object of 10 artists>)"
      ]
     },
     "execution_count": 8,
     "metadata": {},
     "output_type": "execute_result"
    },
    {
     "data": {
      "image/png": "[encoded data removed]",
      "text/plain": [
       "<Figure size 640x480 with 1 Axes>"
      ]
     },
     "metadata": {},
     "output_type": "display_data"
    }
   ],
   "source": [
    "plt.hist(Y)"
   ]
  },
  {
   "cell_type": "code",
   "execution_count": 9,
   "metadata": {},
   "outputs": [],
   "source": [
    "def log_lik(X,Y,beta):\n",
    "    beta_t=beta.reshape(1,k)\n",
    "    X_t=X.transpose()\n",
    "    ll=np.dot(beta_t,np.dot(X_t,Y))\n",
    "    for i in range(N):\n",
    "        ll=ll-np.log(1+np.exp(np.dot((X[i,:].reshape(k,1)),beta.reshape(1,k))))\n",
    "    return ll[0][0]"
   ]
  },
  {
   "cell_type": "code",
   "execution_count": 10,
   "metadata": {},
   "outputs": [
    {
     "data": {
      "text/plain": [
       "-748.095393719024"
      ]
     },
     "execution_count": 10,
     "metadata": {},
     "output_type": "execute_result"
    }
   ],
   "source": [
    "log_lik(X,Y,beta_none-8)"
   ]
  },
  {
   "cell_type": "code",
   "execution_count": 12,
   "metadata": {},
   "outputs": [],
   "source": [
    "def density_value(beta,mu,var_):\n",
    "    beta=beta.reshape(k,1)\n",
    "    mu=mu.reshape(k,1)\n",
    "    gap=beta-mu\n",
    "    gap_t=gap.transpose()\n",
    "    pi=np.pi\n",
    "    det=np.linalg.det(var_)\n",
    "    in_var=np.linalg.inv(var_)\n",
    "    const_=np.sqrt(((2*np.pi)**k)*det)\n",
    "    inv_const=np.round(1/const_,100)\n",
    "    v=np.dot(gap_t,np.dot(in_var,gap))\n",
    "    x=np.exp((-1/2)*v)\n",
    "    value=inv_const*x\n",
    "    return value[0][0]"
   ]
  },
  {
   "cell_type": "code",
   "execution_count": 13,
   "metadata": {},
   "outputs": [],
   "source": [
    "def link_fun(x):\n",
    "    return 1/(1+np.exp(-x))"
   ]
  },
  {
   "cell_type": "code",
   "execution_count": 14,
   "metadata": {},
   "outputs": [],
   "source": [
    "def get_Lambda_Matrix(X,beta):\n",
    "    beta_t=beta.reshape(k,1)\n",
    "    left_real_values=[link_fun(np.dot(X[i,:].reshape(1,k),beta_t)[0][0]) for i in range(N)]\n",
    "    real_values=[np.round(left_real_values[i]*(1-left_real_values[i]),100) for i in range(N)]\n",
    "    Lambda_matrix=np.diag(real_values)\n",
    "\n",
    "    return Lambda_matrix\n"
   ]
  },
  {
   "cell_type": "code",
   "execution_count": 15,
   "metadata": {},
   "outputs": [
    {
     "data": {
      "text/plain": [
       "(150, 150)"
      ]
     },
     "execution_count": 15,
     "metadata": {},
     "output_type": "execute_result"
    }
   ],
   "source": [
    "get_Lambda_Matrix(X,beta_none).shape"
   ]
  },
  {
   "cell_type": "code",
   "execution_count": 16,
   "metadata": {},
   "outputs": [],
   "source": [
    "def Tensor_metric_G(X,beta):\n",
    "    Lambda_Matrix=get_Lambda_Matrix(X,beta)\n",
    "    X_t=X.transpose()\n",
    "    G_of_beta=X_t@(Lambda_Matrix@X)-sigma*np.identity(k)\n",
    "\n",
    "    return G_of_beta"
   ]
  },
  {
   "cell_type": "code",
   "execution_count": 17,
   "metadata": {},
   "outputs": [
    {
     "data": {
      "text/plain": [
       "(10, 10)"
      ]
     },
     "execution_count": 17,
     "metadata": {},
     "output_type": "execute_result"
    }
   ],
   "source": [
    "Tensor_metric_G(X,beta_none).shape"
   ]
  },
  {
   "cell_type": "code",
   "execution_count": 18,
   "metadata": {},
   "outputs": [],
   "source": [
    "def compute_V_i(X,i,beta):\n",
    "    #diag_elts=[(1-2*link_fun_value(X[n],beta_))*X[n,i] for n in range(N)]\n",
    "    beta_t=beta.reshape(1,k)\n",
    "    diag_elts=[(1-2*link_fun(np.dot(X[i,:].reshape(k,1),beta_t)[0][0])) for i in range(N)]\n",
    "    V_i_Matrix=np.diag(diag_elts)\n",
    "    return V_i_Matrix"
   ]
  },
  {
   "cell_type": "code",
   "execution_count": 19,
   "metadata": {},
   "outputs": [],
   "source": [
    "def get_G_partial_derivative(X,i,beta):\n",
    "    X_t=X.transpose()\n",
    "    Lambda_Matrix=get_Lambda_Matrix(X,beta) #get_Lambda_Matrix(X,beta_none)\n",
    "    V_i_Matrix=compute_V_i(X,i,beta)\n",
    "    G_partial_derivative_Matrix=X_t@Lambda_Matrix@V_i_Matrix@X\n",
    "\n",
    "    return G_partial_derivative_Matrix"
   ]
  },
  {
   "cell_type": "code",
   "execution_count": 20,
   "metadata": {},
   "outputs": [
    {
     "data": {
      "text/plain": [
       "(150, 150)"
      ]
     },
     "execution_count": 20,
     "metadata": {},
     "output_type": "execute_result"
    }
   ],
   "source": [
    "compute_V_i(X,0,beta_none).shape"
   ]
  },
  {
   "cell_type": "code",
   "execution_count": 21,
   "metadata": {},
   "outputs": [
    {
     "data": {
      "text/plain": [
       "(10, 10)"
      ]
     },
     "execution_count": 21,
     "metadata": {},
     "output_type": "execute_result"
    }
   ],
   "source": [
    "get_G_partial_derivative(X,0,beta_none).shape"
   ]
  },
  {
   "cell_type": "code",
   "execution_count": 22,
   "metadata": {},
   "outputs": [],
   "source": [
    "def grad_log_lik(X,Y,beta):\n",
    "    X_t=X.transpose()\n",
    "    gll=X_t@Y\n",
    "    for n in range(N):\n",
    "        value=np.dot(X[i,:],beta)[0]\n",
    "        gll=gll-link_fun(value)*(X[i,:].reshape(k,1))\n",
    "    return gll\n",
    "    "
   ]
  },
  {
   "cell_type": "code",
   "execution_count": 23,
   "metadata": {},
   "outputs": [],
   "source": [
    "def proposal_Distribution_mean(X,Y,beta):\n",
    "    e=learning_rate\n",
    "    G=Tensor_metric_G(X,beta) #Tensor_metric_G(X,beta)\n",
    "    inv_G=np.linalg.inv(G)\n",
    "\n",
    "    term2=(1/2)*(e**2)*inv_G@grad_log_lik(X,Y,beta)\n",
    "    term3=np.zeros(k)\n",
    "    term4=np.zeros(k)\n",
    "    for j in range(k):\n",
    "        term3=term3-(e**2)*(inv_G@get_G_partial_derivative(X,j,beta)@inv_G)[:,j]\n",
    "    for j in range(k):\n",
    "        terme4=term4+(e**2)*inv_G[:,j]*np.trace(inv_G@get_G_partial_derivative(X,j,beta))\n",
    "\n",
    "    proposal_mean=beta.reshape(k,1)+term2+term3.reshape(k,1)+term4.reshape(k,1)\n",
    "    return proposal_mean\n",
    "    "
   ]
  },
  {
   "cell_type": "code",
   "execution_count": 24,
   "metadata": {},
   "outputs": [
    {
     "data": {
      "text/plain": [
       "(10, 1)"
      ]
     },
     "execution_count": 24,
     "metadata": {},
     "output_type": "execute_result"
    }
   ],
   "source": [
    "proposal_Distribution_mean(X,Y,beta_none).shape\n"
   ]
  },
  {
   "cell_type": "code",
   "execution_count": 25,
   "metadata": {},
   "outputs": [],
   "source": [
    "def get_matrix_sqrt(X):\n",
    "    U, s, V = np.linalg.svd(X)\n",
    "\n",
    "# Racine carrée des valeurs singulières\n",
    "    s_sqrt = np.sqrt(s)\n",
    "\n",
    "# Reconstruction de la matrice racine carrée\n",
    "    X_sqrt = U.dot(np.diag(s_sqrt)).dot(V)\n",
    "\n",
    "    return X_sqrt"
   ]
  },
  {
   "cell_type": "code",
   "execution_count": 26,
   "metadata": {},
   "outputs": [],
   "source": [
    "def proposal_Distribution_std_matrix_fun(X,beta): # c'est plutot l'cartype\n",
    "    e=learning_rate\n",
    "    G=Tensor_metric_G(X,beta)\n",
    "    inv_G=np.linalg.inv(G)\n",
    "    inv_G_sqrt=get_matrix_sqrt(inv_G)\n",
    "    \n",
    "    return e*inv_G_sqrt"
   ]
  },
  {
   "cell_type": "code",
   "execution_count": 27,
   "metadata": {},
   "outputs": [
    {
     "data": {
      "text/plain": [
       "(10, 10)"
      ]
     },
     "execution_count": 27,
     "metadata": {},
     "output_type": "execute_result"
    }
   ],
   "source": [
    "proposal_Distribution_std_matrix_fun(X,beta_none).shape"
   ]
  },
  {
   "cell_type": "code",
   "execution_count": 28,
   "metadata": {},
   "outputs": [],
   "source": [
    "def beta_drawner(X,Y,beta):\n",
    "    mean_=proposal_Distribution_mean(X,Y,beta) #( 10,1)\n",
    "    std_matrix=proposal_Distribution_std_matrix_fun(X,beta)  # (10,10)\n",
    "    Z=np.random.randn(k,1)\n",
    "    proposed_teta=mean_+std_matrix@Z\n",
    "    \n",
    "    return proposed_teta"
   ]
  },
  {
   "cell_type": "code",
   "execution_count": 29,
   "metadata": {},
   "outputs": [
    {
     "data": {
      "text/plain": [
       "(10, 1)"
      ]
     },
     "execution_count": 29,
     "metadata": {},
     "output_type": "execute_result"
    }
   ],
   "source": [
    "beta_drawner(X,Y,beta_none).shape"
   ]
  },
  {
   "cell_type": "code",
   "execution_count": 30,
   "metadata": {},
   "outputs": [],
   "source": [
    "def Acceptance_Rati(beta1, beta2, X, Y, ):\n",
    "\n",
    "    ee=0.00001\n",
    "    q_mu1=proposal_Distribution_mean(X,Y,beta1)\n",
    "    q_mu2=proposal_Distribution_mean(X,Y,beta2)\n",
    "    #   prior density\n",
    "    var_=std@(std.transpose())\n",
    "    p1=density_value(beta1,mu,var_)\n",
    "    p2=density_value(beta2,mu,var_)\n",
    "    # proposal density \n",
    "    std1=proposal_Distribution_std_matrix_fun(X,beta1)\n",
    "    std2=proposal_Distribution_std_matrix_fun(X,beta2)\n",
    "    q_var1=std1@(std1.transpose())\n",
    "    q_var2=std1@(std2.transpose())\n",
    "\n",
    "\n",
    "    q1=density_value(beta1,q_mu1,q_var1)\n",
    "    q2=density_value(beta2,q_mu2,q_var2)\n",
    "    rate= ee+ ((p2*q1)+ee)/((p1*q2)+ee)\n",
    "    return np.log(rate)\n",
    "\n"
   ]
  },
  {
   "cell_type": "code",
   "execution_count": 31,
   "metadata": {},
   "outputs": [
    {
     "data": {
      "text/plain": [
       "9.999950000398841e-06"
      ]
     },
     "execution_count": 31,
     "metadata": {},
     "output_type": "execute_result"
    }
   ],
   "source": [
    "Acceptance_Rati(beta_none,beta_none,X,Y)"
   ]
  },
  {
   "cell_type": "code",
   "execution_count": 32,
   "metadata": {},
   "outputs": [],
   "source": [
    "def mMALA_one_iter(beta,X=X,Y=Y):\n",
    "    prop_beta=beta_drawner(X,Y,beta)\n",
    "    log_rate=Acceptance_Rati(beta,prop_beta,X=X,Y=Y)\n",
    "    u=np.random.uniform(0, 1)\n",
    "    ee=0.00001\n",
    "    if (log_rate>0) or (log_rate>np.log(u+ee)):\n",
    "        return prop_beta\n",
    "    else :\n",
    "        return beta\n",
    "     "
   ]
  },
  {
   "cell_type": "code",
   "execution_count": 33,
   "metadata": {},
   "outputs": [
    {
     "data": {
      "text/plain": [
       "array([[0.0090194 ],\n",
       "       [0.0197417 ],\n",
       "       [0.02982156],\n",
       "       [0.04027588],\n",
       "       [0.04903346],\n",
       "       [0.05986887],\n",
       "       [0.07049203],\n",
       "       [0.07896181],\n",
       "       [0.09086893],\n",
       "       [0.09909638]])"
      ]
     },
     "execution_count": 33,
     "metadata": {},
     "output_type": "execute_result"
    }
   ],
   "source": [
    "mMALA_one_iter(beta_none)"
   ]
  },
  {
   "cell_type": "code",
   "execution_count": 34,
   "metadata": {},
   "outputs": [],
   "source": [
    "def mMALA_Run(X=X,Y=Y,B=1,initial_state=np.zeros(k).reshape(k,1)):\n",
    "    current_beta=initial_state\n",
    "    beta_chaine=[]\n",
    "    for i in range(B):\n",
    "        current_beta=mMALA_one_iter(current_beta,X=X,Y=Y)\n",
    "        beta_chaine.append(current_beta)\n",
    "\n",
    "    return beta_chaine\n"
   ]
  },
  {
   "cell_type": "code",
   "execution_count": 35,
   "metadata": {},
   "outputs": [],
   "source": [
    "chaine_long=mMALA_Run(B=100000)\n",
    "last_valueF=chaine_long[0]\n",
    "last_valueF[-1],beta_none[0]\n"
   ]
  },
  {
   "cell_type": "code",
   "execution_count": null,
   "metadata": {},
   "outputs": [],
   "source": [
    "def predictor(X,beta_hat):\n",
    "    Pred_Probas=np.zeros(N)\n",
    "    Y_pred=np.zeros(N).\n",
    "    for i in range(N):\n",
    "        value=np.dot(X[i,:],beta_hat)[0]\n",
    "        Pred_Probas[i]=link_fun(value)\n",
    "        Y_pred[i]=indicator_fun(Pred_Probas[i]-0.5)\n",
    "\n",
    "    return Y_pred"
   ]
  },
  {
   "cell_type": "code",
   "execution_count": null,
   "metadata": {},
   "outputs": [],
   "source": [
    "beta_mMALA=chaine_long[-1]\n",
    "y_pred = predictor(X,beta_hat)\n",
    "y_pred.shape"
   ]
  },
  {
   "cell_type": "code",
   "execution_count": null,
   "metadata": {},
   "outputs": [],
   "source": [
    "import numpy as np\n",
    "import matplotlib.pyplot as plt\n",
    "from sklearn.metrics import confusion_matrix\n",
    "import seaborn as sns\n",
    "\n",
    "\n",
    "\n",
    "# Calculer la matrice de confusion\n",
    "conf_matrix = confusion_matrix(Y, y_pred)\n",
    "\n",
    "# Étiquettes des classes\n",
    "class_names = ['Classe 0', 'Classe 1']\n",
    "\n",
    "# Tracer la matrice de confusion\n",
    "plt.figure(figsize=(8, 6))\n",
    "sns.set(font_scale=1.2)  # Ajuster la taille de la police\n",
    "sns.heatmap(conf_matrix, annot=True, fmt='d', cmap='Blues', cbar=False, annot_kws={\"size\": 14}, xticklabels=class_names, yticklabels=class_names)\n",
    "plt.xlabel('Classe prédite')\n",
    "plt.ylabel('Classe réelle')\n",
    "plt.title('Matrice de confusion')\n",
    "plt.show()\n"
   ]
  },
  {
   "cell_type": "code",
   "execution_count": null,
   "metadata": {},
   "outputs": [],
   "source": [
    "def plot_chaine_distr(chaine_,true_params=0,i=0,algo=\"mMALA\"):\n",
    "    data=[chaine_[i][0] for i in range(2000,B,1)]\n",
    "    sns.distplot(data)\n",
    "    plt.axvline(x=beta[i], color='red', linestyle='--')\n",
    "    plt.xlabel(\" Beta estimated \")\n",
    "    plt.ylabel(\"Frequency\")\n",
    "    plt.title(\" Distribution of beta \")\n",
    "    plt.grid()"
   ]
  },
  {
   "cell_type": "code",
   "execution_count": null,
   "metadata": {},
   "outputs": [],
   "source": [
    "chaine_l=mMALA_Run(B=2)\n",
    "last_value0=chaine_0[0]\n",
    "last_value0[-1],beta_none[0]\n",
    "last_value0"
   ]
  },
  {
   "cell_type": "code",
   "execution_count": 687,
   "metadata": {},
   "outputs": [
    {
     "data": {
      "text/plain": [
       "(array([0.00224504]), array([0.1]))"
      ]
     },
     "execution_count": 687,
     "metadata": {},
     "output_type": "execute_result"
    }
   ],
   "source": [
    "chaine_9=MALA_Run(B=1000,initial_state=last_value8)\n",
    "last_value9=chaine_9[-1]\n",
    "last_value9[-1],beta_none[-1]"
   ]
  },
  {
   "cell_type": "code",
   "execution_count": 688,
   "metadata": {},
   "outputs": [
    {
     "data": {
      "text/plain": [
       "(array([0.00201298]), array([0.1]))"
      ]
     },
     "execution_count": 688,
     "metadata": {},
     "output_type": "execute_result"
    }
   ],
   "source": [
    "chaine_10=MALA_Run(B=1000,initial_state=last_value9)\n",
    "last_value10=chaine_10[-1]\n",
    "last_value10[-1],beta_none[-1]"
   ]
  },
  {
   "cell_type": "code",
   "execution_count": 689,
   "metadata": {},
   "outputs": [
    {
     "data": {
      "text/plain": [
       "(array([0.00209686]), array([0.1]))"
      ]
     },
     "execution_count": 689,
     "metadata": {},
     "output_type": "execute_result"
    }
   ],
   "source": [
    "chaine_11=MALA_Run(B=1000,initial_state=last_value10)\n",
    "last_value11=chaine_11[-1]\n",
    "last_value11[-1],beta_none[-1]"
   ]
  },
  {
   "cell_type": "code",
   "execution_count": 684,
   "metadata": {},
   "outputs": [
    {
     "data": {
      "text/plain": [
       "(array([143., 153., 126., 260., 222., 258., 275., 251., 154., 158.]),\n",
       " array([0.00088904, 0.00095409, 0.00101915, 0.0010842 , 0.00114925,\n",
       "        0.00121431, 0.00127936, 0.00134441, 0.00140946, 0.00147452,\n",
       "        0.00153957]),\n",
       " <BarContainer object of 10 artists>)"
      ]
     },
     "execution_count": 684,
     "metadata": {},
     "output_type": "execute_result"
    },
    {
     "data": {
      "image/png": "[encoded data removed]",
      "text/plain": [
       "<Figure size 640x480 with 1 Axes>"
      ]
     },
     "metadata": {},
     "output_type": "display_data"
    }
   ],
   "source": []
  }
 ],
 "metadata": {
  "kernelspec": {
   "display_name": "base",
   "language": "python",
   "name": "python3"
  },
  "language_info": {
   "codemirror_mode": {
    "name": "ipython",
    "version": 3
   },
   "file_extension": ".py",
   "mimetype": "text/x-python",
   "name": "python",
   "nbconvert_exporter": "python",
   "pygments_lexer": "ipython3",
   "version": "3.11.6"
  }
 },
 "nbformat": 4,
 "nbformat_minor": 2
}
