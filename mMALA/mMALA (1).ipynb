{
 "cells": [
  {
   "cell_type": "markdown",
   "metadata": {},
   "source": [
    "# 1 Import and Init"
   ]
  },
  {
   "cell_type": "code",
   "execution_count": 3,
   "metadata": {},
   "outputs": [],
   "source": [
    "import numpy as np"
   ]
  },
  {
   "cell_type": "code",
   "execution_count": null,
   "metadata": {},
   "outputs": [],
   "source": [
    "python_interpretator=\"/home/onyxia/work/Sampling-Methods-MCMC-Project/Manifold_MALA/mMALA_Vistual_Env/bin/python\""
   ]
  },
  {
   "cell_type": "markdown",
   "metadata": {},
   "source": [
    "2. Set mMALA Requirement Function"
   ]
  },
  {
   "cell_type": "code",
   "execution_count": 16,
   "metadata": {},
   "outputs": [],
   "source": [
    "def log_likelihood(X,Y,beta_):\n",
    "    N=X.shape[0]\n",
    "    beta_T=beta_.transpose()\n",
    "    X_T=X.transpose()\n",
    "\n",
    "    log_likeli=np.round((beta_T@X_T)@Y,5)\n",
    "\n",
    "    for n in range(N):\n",
    "        log_likeli=log_likeli-np.log(1+np.round(np.exp(beta_T@(X[n,:])).transpose(),5))\n",
    "\n",
    "    return np.round(log_likeli,5)\n"
   ]
  },
  {
   "cell_type": "code",
   "execution_count": 17,
   "metadata": {},
   "outputs": [
    {
     "name": "stdout",
     "output_type": "stream",
     "text": [
      "(3, 2) (3,) (2,)\n"
     ]
    },
    {
     "data": {
      "text/plain": [
       "-1.43089"
      ]
     },
     "execution_count": 17,
     "metadata": {},
     "output_type": "execute_result"
    }
   ],
   "source": [
    "# application\n",
    "X=np.random.randn(3,2)\n",
    "Y=np.random.randn(3)#.reshape(3,1)\n",
    "beta_=np.ones(2)#.reshape(3,1)\n",
    "\n",
    "print(X.shape,Y.shape,beta_.shape)\n",
    "log_likelihood(X,Y,beta_)"
   ]
  },
  {
   "cell_type": "code",
   "execution_count": 102,
   "metadata": {},
   "outputs": [],
   "source": [
    "k=2\n",
    "mu=np.zeros(k)\n",
    "variance_=np.identity(k)\n",
    "sigma_square=1  # \" dans la papier sigma_square=100\"\n",
    "def get_densite_value(betha_,mu=mu,variance_=sigma_square*np.identity(k)):\n",
    "    k=len(beta_)\n",
    "    det_=np.linalg.det(variance_)\n",
    "    inv_variance_=np.linalg.inv(variance_)\n",
    "    gap=betha_-mu\n",
    "    gap_T=gap.transpose()\n",
    "    normalisation_constante=1/np.sqrt(((2*np.pi)**(k))*det_)\n",
    "    densite_value=normalisation_constante*np.exp((-1/2)*(gap@inv_variance_@gap_T))\n",
    "\n",
    "    return round(densite_value,5)"
   ]
  },
  {
   "cell_type": "code",
   "execution_count": 103,
   "metadata": {},
   "outputs": [
    {
     "data": {
      "text/plain": [
       "0.05855"
      ]
     },
     "execution_count": 103,
     "metadata": {},
     "output_type": "execute_result"
    }
   ],
   "source": [
    "get_densite_value(beta_)"
   ]
  },
  {
   "cell_type": "code",
   "execution_count": 104,
   "metadata": {},
   "outputs": [
    {
     "data": {
      "text/plain": [
       "0.36788049973536474"
      ]
     },
     "execution_count": 104,
     "metadata": {},
     "output_type": "execute_result"
    }
   ],
   "source": [
    "get_prior_densite(beta_)*2*np.pi  "
   ]
  },
  {
   "cell_type": "code",
   "execution_count": 30,
   "metadata": {},
   "outputs": [],
   "source": [
    "def link_fun_value(X_i,betha_):\n",
    "    betha_T=betha_.transpose()\n",
    "    X_i_T=betha_.transpose()\n",
    "    x=betha_T@X_i_T\n",
    "    return np.round(1/(1+np.exp(-x)))"
   ]
  },
  {
   "cell_type": "code",
   "execution_count": 33,
   "metadata": {},
   "outputs": [
    {
     "data": {
      "text/plain": [
       "1.0"
      ]
     },
     "execution_count": 33,
     "metadata": {},
     "output_type": "execute_result"
    }
   ],
   "source": [
    "X_1=X[1]\n",
    "link_fun_value(X_1,beta_)"
   ]
  },
  {
   "cell_type": "code",
   "execution_count": 39,
   "metadata": {},
   "outputs": [],
   "source": [
    "def get_Lambda_Matrix(X,sigma_square,betha_):\n",
    "    N=X.shape[0]\n",
    "    left_real_values=[link_fun_value(X[i,:],betha_) for i in range(N)]\n",
    "    real_values=[left_real_values[i]*(1-left_real_values[i]) for i in range(N)]\n",
    "    Lambda_matrix=np.diag(real_values)\n",
    "\n",
    "    return Lambda_matrix\n"
   ]
  },
  {
   "cell_type": "code",
   "execution_count": 41,
   "metadata": {},
   "outputs": [
    {
     "data": {
      "text/plain": [
       "array([[0., 0., 0.],\n",
       "       [0., 0., 0.],\n",
       "       [0., 0., 0.]])"
      ]
     },
     "execution_count": 41,
     "metadata": {},
     "output_type": "execute_result"
    }
   ],
   "source": [
    "Lambda_Matrix=get_Lambda_Matrix(X,sigma_square,beta_)\n",
    "Lambda_Matrix"
   ]
  },
  {
   "cell_type": "code",
   "execution_count": 43,
   "metadata": {},
   "outputs": [],
   "source": [
    "def Tensor_metric_G(X,sigma_square,beta_):\n",
    "    k=len(beta_)\n",
    "    Lambda_Matrix=get_Lambda_Matrix(X,sigma_square,beta_)\n",
    "    X_t=X.transpose()\n",
    "    G_of_beta=X_t@(Lambda_Matrix@X)-sigma_square*np.identity(k)\n",
    "\n",
    "    return G_of_beta"
   ]
  },
  {
   "cell_type": "code",
   "execution_count": 45,
   "metadata": {},
   "outputs": [
    {
     "data": {
      "text/plain": [
       "array([[-1.,  0.],\n",
       "       [ 0., -1.]])"
      ]
     },
     "execution_count": 45,
     "metadata": {},
     "output_type": "execute_result"
    }
   ],
   "source": [
    "G_of_beta=Tensor_metric_G(X,sigma_square,beta_)\n",
    "G_of_beta"
   ]
  },
  {
   "cell_type": "code",
   "execution_count": 48,
   "metadata": {},
   "outputs": [],
   "source": [
    "def compute_V_i(X,i,beta_):\n",
    "    N=X.shape[0]\n",
    "    diag_elts=[(1-2*link_fun_value(X[n],beta_))*X[n,i] for n in range(N)]\n",
    "    V_i_Matrix=np.diag(diag_elts)\n",
    "    return V_i_Matrix"
   ]
  },
  {
   "cell_type": "code",
   "execution_count": 49,
   "metadata": {},
   "outputs": [
    {
     "data": {
      "text/plain": [
       "array([[-2.06467858,  0.        ,  0.        ],\n",
       "       [ 0.        ,  1.09409036,  0.        ],\n",
       "       [ 0.        ,  0.        ,  0.4145553 ]])"
      ]
     },
     "execution_count": 49,
     "metadata": {},
     "output_type": "execute_result"
    }
   ],
   "source": [
    "i=0\n",
    "compute_V_i(X,i,beta_)"
   ]
  },
  {
   "cell_type": "code",
   "execution_count": 50,
   "metadata": {},
   "outputs": [],
   "source": [
    "def get_G_partial_derivative(X,i,beta_):\n",
    "    X_t=X.transpose()\n",
    "    Lambda_Matrix=get_Lambda_Matrix(X,sigma_square,beta_)\n",
    "    V_i_Matrix=compute_V_i(X,i,beta_)\n",
    "    G_partial_derivative_Matrix=X_t@Lambda_Matrix@V_i_Matrix@X\n",
    "\n",
    "    return G_partial_derivative_Matrix\n"
   ]
  },
  {
   "cell_type": "code",
   "execution_count": 51,
   "metadata": {},
   "outputs": [
    {
     "data": {
      "text/plain": [
       "array([[0., 0.],\n",
       "       [0., 0.]])"
      ]
     },
     "execution_count": 51,
     "metadata": {},
     "output_type": "execute_result"
    }
   ],
   "source": [
    "G_partial_derivative_Matrix=get_G_partial_derivative(X,i,beta_)\n",
    "G_partial_derivative_Matrix"
   ]
  },
  {
   "cell_type": "code",
   "execution_count": 5,
   "metadata": {},
   "outputs": [
    {
     "data": {
      "text/plain": [
       "array([[0., 0.],\n",
       "       [0., 0.],\n",
       "       [0., 0.]])"
      ]
     },
     "execution_count": 5,
     "metadata": {},
     "output_type": "execute_result"
    }
   ],
   "source": [
    "x=np.zeros((2,3))\n",
    "x.transpose()"
   ]
  },
  {
   "cell_type": "code",
   "execution_count": 65,
   "metadata": {},
   "outputs": [],
   "source": [
    "def Log_likelihood_gradient(X,Y,beta_):\n",
    "    N=X.shape[0]\n",
    "    X_Transpose=X.transpose()\n",
    "    X_n=np.zeros(k)\n",
    "    gradien_value=X_Transpose@Y\n",
    "    for n in range(N):\n",
    "        X_n=X[n,:]\n",
    "        gradien_value=gradien_value-link_fun_value(X_n,beta_)*(X_n.transpose())\n",
    "\n",
    "    return gradien_value\n"
   ]
  },
  {
   "cell_type": "code",
   "execution_count": 66,
   "metadata": {},
   "outputs": [
    {
     "data": {
      "text/plain": [
       "array([-0.16582445,  2.410143  ])"
      ]
     },
     "execution_count": 66,
     "metadata": {},
     "output_type": "execute_result"
    }
   ],
   "source": [
    "gradien_value=Log_likelihood_gradient(X,Y,beta_)\n",
    "gradien_value"
   ]
  },
  {
   "cell_type": "code",
   "execution_count": 77,
   "metadata": {},
   "outputs": [],
   "source": [
    "def proposal_Distribution_mean(X,Y,beta_,learning_rate):\n",
    "    N,k=X.shape\n",
    "    e=learning_rate\n",
    "    G=Tensor_metric_G(X,sigma_square,beta_)\n",
    "    inv_G=np.linalg.inv(G)\n",
    "\n",
    "    term2=(1/2)*(e**2)*inv_G@Log_likelihood_gradient(X,Y,beta_)\n",
    "    term3=np.zeros(k)\n",
    "    term4=np.zeros(k)\n",
    "    for j in range(k):\n",
    "        term3=term3-(e**2)*(inv_G@get_G_partial_derivative(X,j,beta_)@inv_G)[:,j]\n",
    "    for j in range(k):\n",
    "        terme4=term4+(e**2)*inv_G[:,j]*np.trace(inv_G@get_G_partial_derivative(X,j,beta_))\n",
    "\n",
    "    proposal_mean=beta_+term2+term3+term4\n",
    "    return proposal_mean\n",
    "    "
   ]
  },
  {
   "cell_type": "code",
   "execution_count": 78,
   "metadata": {},
   "outputs": [
    {
     "data": {
      "text/plain": [
       "array([ 1.08291222, -0.2050715 ])"
      ]
     },
     "execution_count": 78,
     "metadata": {},
     "output_type": "execute_result"
    }
   ],
   "source": [
    "proposal_mean=proposal_Distribution_mean(X,Y,beta_,learning_rate=1)\n",
    "proposal_mean"
   ]
  },
  {
   "cell_type": "code",
   "execution_count": 84,
   "metadata": {},
   "outputs": [],
   "source": [
    "def get_matrix_sqrt(X):\n",
    "    U, s, V = np.linalg.svd(X)\n",
    "\n",
    "# Racine carrée des valeurs singulières\n",
    "    s_sqrt = np.sqrt(s)\n",
    "\n",
    "# Reconstruction de la matrice racine carrée\n",
    "    X_sqrt = U.dot(np.diag(s_sqrt)).dot(V)\n",
    "\n",
    "    return X_sqrt"
   ]
  },
  {
   "cell_type": "code",
   "execution_count": 91,
   "metadata": {},
   "outputs": [],
   "source": [
    "def proposal_Distribution_variance_matrix_fun(X,beta_,sigma_square,learning_rate):\n",
    "    e=learning_rate\n",
    "    G=Tensor_metric_G(X,sigma_square,beta_)\n",
    "    inv_G=np.linalg.inv(G)\n",
    "    inv_G_sqrt=get_matrix_sqrt(inv_G)\n",
    "    \n",
    "    return e*inv_G_sqrt"
   ]
  },
  {
   "cell_type": "code",
   "execution_count": 110,
   "metadata": {},
   "outputs": [],
   "source": [
    "def beta_drawner(X,Y,beta_,learning_rate=1):\n",
    "    e=learning_rate\n",
    "    N,k=X.shape\n",
    "    mean_=proposal_Distribution_mean(X,Y,beta_,learning_rate=e)\n",
    "    variance=e*proposal_Distribution_variance_matrix_fun(X,beta_,sigma_square,learning_rate)\n",
    "    Z=np.random.randn(k)\n",
    "    proposed_teta=+variance@Z\n",
    "    \n",
    "    return proposed_teta"
   ]
  },
  {
   "cell_type": "code",
   "execution_count": 111,
   "metadata": {},
   "outputs": [
    {
     "data": {
      "text/plain": [
       "array([0.07071548, 0.50538454])"
      ]
     },
     "execution_count": 111,
     "metadata": {},
     "output_type": "execute_result"
    }
   ],
   "source": [
    "thetaStart=beta_drawner(X,Y,beta_,learning_rate=1)\n",
    "thetaStart"
   ]
  },
  {
   "cell_type": "code",
   "execution_count": 120,
   "metadata": {},
   "outputs": [],
   "source": [
    "k=2\n",
    "sigma_square=1\n",
    "def Acceptance_Rati(thetaStart, theta_,X,Y,mu_prior=np.zeros(k),variance_=sigma_square*np.identity(k),learning_rate=1):\n",
    "    LL_theta=log_likelihood(X,Y,theta_)\n",
    "    LL_theta_start=log_likelihood(X,Y,thetaStart)\n",
    "\n",
    "    teta_mu_proposal=proposal_Distribution_mean(X,Y,thetaStart,learning_rate)\n",
    "    teta_variance_propsal=proposal_Distribution_variance_matrix_fun(X,thetaStart,sigma_square,learning_rate)\n",
    "    tetaStart_mu_proposal=proposal_Distribution_mean(X,Y,beta_,learning_rate)\n",
    "    tetaStar_variance_propsal=proposal_Distribution_variance_matrix_fun(X,beta_,sigma_square,learning_rate)\n",
    "\n",
    "    \n",
    "    p_teta=get_densite_value(theta_,mu=mu_prior,variance_=variance_)\n",
    "    q_teta=get_densite_value(theta_,mu=teta_mu_proposal,variance_=teta_variance_propsal)\n",
    "\n",
    "    p_teta_start=get_densite_value(theta_,mu=mu_prior,variance_=variance_)\n",
    "    q_teta_start=get_densite_value(theta_,mu=tetaStart_mu_proposal,variance_=tetaStar_variance_propsal)\n",
    "\n",
    "    acceptance_rate=LL_theta_start+np.log(p_teta_start)+np.log(q_teta_start)-LL_theta-np.log(p_teta)-np.log(q_teta)\n",
    "\n",
    "    return acceptance_rate\n",
    "\n",
    "\n",
    "\n"
   ]
  },
  {
   "cell_type": "code",
   "execution_count": 121,
   "metadata": {},
   "outputs": [
    {
     "data": {
      "text/plain": [
       "-1.0206458739598248"
      ]
     },
     "execution_count": 121,
     "metadata": {},
     "output_type": "execute_result"
    }
   ],
   "source": [
    "\n",
    "acceptance_rate_=Acceptance_Rati(thetaStart, beta_,X,Y,mu_prior=np.zeros(k),variance_=sigma_square*np.identity(k),learning_rate=1)\n",
    "acceptance_rate_"
   ]
  },
  {
   "cell_type": "code",
   "execution_count": 93,
   "metadata": {},
   "outputs": [],
   "source": []
  },
  {
   "cell_type": "code",
   "execution_count": 94,
   "metadata": {},
   "outputs": [
    {
     "data": {
      "text/plain": [
       "array([-1.28022931,  1.79956381])"
      ]
     },
     "execution_count": 94,
     "metadata": {},
     "output_type": "execute_result"
    }
   ],
   "source": [
    "proposed_beta=beta_drawner(X,Y,beta_,learning_rate=1)\n",
    "proposed_beta\n"
   ]
  },
  {
   "cell_type": "code",
   "execution_count": null,
   "metadata": {},
   "outputs": [],
   "source": [
    "\"\" puique les deux lois proposal and prior sont des loi de normales alors , on a beasoin d'implémenter une fonction\n",
    "calcul le log prior pour la loi propsal , on juste utiliser celle basée sur la loi à priori en définisant la moyenne et la \n",
    "variance des dlois comme des arguments .\""
   ]
  },
  {
   "cell_type": "code",
   "execution_count": null,
   "metadata": {},
   "outputs": [],
   "source": [
    "def on_step_mMALA(X,Y,beta_,learning)"
   ]
  }
 ],
 "metadata": {
  "kernelspec": {
   "display_name": "mMALA_Vistual_Env",
   "language": "python",
   "name": "mmala_vistual_env"
  },
  "language_info": {
   "codemirror_mode": {
    "name": "ipython",
    "version": 3
   },
   "file_extension": ".py",
   "mimetype": "text/x-python",
   "name": "python",
   "nbconvert_exporter": "python",
   "pygments_lexer": "ipython3",
   "version": "3.11.6"
  }
 },
 "nbformat": 4,
 "nbformat_minor": 2
}
