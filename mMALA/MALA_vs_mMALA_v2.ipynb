{
  "cells": [
    {
      "cell_type": "markdown",
      "metadata": {
        "id": "tx05yj_C48sA"
      },
      "source": [
        "# 1 Import and Init"
      ]
    },
    {
      "cell_type": "code",
      "execution_count": null,
      "metadata": {
        "id": "VILL1zsp48sC"
      },
      "outputs": [],
      "source": [
        "import numpy as np\n",
        "import matplotlib.pyplot as plt\n",
        "import random\n",
        "seed=1996\n",
        "np.random.seed(seed)\n",
        "random.seed(seed)"
      ]
    },
    {
      "cell_type": "code",
      "execution_count": null,
      "metadata": {
        "id": "TL40xwZm48sD",
        "outputId": "5bc896fb-430a-4fa3-8f8c-1512b2e39a2c"
      },
      "outputs": [
        {
          "data": {
            "text/plain": [
              "array([[0.01, 0.02, 0.03, 0.04, 0.05, 0.06, 0.07, 0.08, 0.09, 0.1 ]])"
            ]
          },
          "execution_count": 86,
          "metadata": {},
          "output_type": "execute_result"
        }
      ],
      "source": [
        "N,k=150,10\n",
        "learning_rate=0.001\n",
        "mu=np.zeros(k)\n",
        "sigma=2 # \" dans la papier sigma_square=100\"\n",
        "std=sigma*np.identity(k)\n",
        "beta_none=np.array([(i+1)/100 for i in range(k) ]).reshape(k,1)\n",
        "data=np.random.randn(N+50,k)\n",
        "B=3000\n",
        "beta_none.reshape(1,k)"
      ]
    },
    {
      "cell_type": "code",
      "execution_count": null,
      "metadata": {
        "id": "sgkBhweN48sE"
      },
      "outputs": [],
      "source": [
        "# Normalisation des données pour éviter d'avoir des pbs liées à\n",
        "min_=np.mean(data,axis=0)\n",
        "max_=np.max(data,axis=0)\n",
        "data=(data-min_)/max_-min_"
      ]
    },
    {
      "cell_type": "markdown",
      "metadata": {
        "id": "eWEoHgR048sE"
      },
      "source": [
        "#  2 We generate random data and make some basic descriptive analysis.\n"
      ]
    },
    {
      "cell_type": "code",
      "execution_count": null,
      "metadata": {
        "id": "zoDaho-N48sE"
      },
      "outputs": [],
      "source": [
        "def indicator(x,threshold=-0.001) :\n",
        "    if x>=threshold:\n",
        "        return int(1)\n",
        "    else:\n",
        "            return int(0)"
      ]
    },
    {
      "cell_type": "code",
      "execution_count": null,
      "metadata": {
        "id": "BP3NWYGs48sF"
      },
      "outputs": [],
      "source": [
        "output=np.zeros(N+50).reshape(N+50,1)\n",
        "for i in range(N+50):\n",
        "    z=np.random.randn(1)\n",
        "    output[i]=indicator(np.dot(data[i],beta_none))"
      ]
    },
    {
      "cell_type": "code",
      "execution_count": null,
      "metadata": {
        "id": "pO9kCf0Z48sF"
      },
      "outputs": [],
      "source": [
        "X_test,Y_test=data[150:],output[150:]\n",
        "X,Y=data[0:150],output[0:150]\n"
      ]
    },
    {
      "cell_type": "code",
      "execution_count": null,
      "metadata": {
        "id": "enCItYtj48sF",
        "outputId": "9b730cd9-44cf-4c49-eeca-c8cef3a2124d"
      },
      "outputs": [
        {
          "data": {
            "text/plain": [
              "((150, 10), (150, 1))"
            ]
          },
          "execution_count": 95,
          "metadata": {},
          "output_type": "execute_result"
        }
      ],
      "source": [
        "X.shape,Y.shape"
      ]
    },
    {
      "cell_type": "code",
      "execution_count": null,
      "metadata": {
        "id": "agn1uAs848sG",
        "outputId": "51db8831-8ceb-4d17-d6ad-8b180b4801c8"
      },
      "outputs": [
        {
          "data": {
            "text/plain": [
              "(array([66.,  0.,  0.,  0.,  0.,  0.,  0.,  0.,  0., 84.]),\n",
              " array([0. , 0.1, 0.2, 0.3, 0.4, 0.5, 0.6, 0.7, 0.8, 0.9, 1. ]),\n",
              " <BarContainer object of 10 artists>)"
            ]
          },
          "execution_count": 96,
          "metadata": {},
          "output_type": "execute_result"
        },
        {
          "data": {
            "image/png": "[encoded data removed]",
            "text/plain": [
              "<Figure size 640x480 with 1 Axes>"
            ]
          },
          "metadata": {},
          "output_type": "display_data"
        }
      ],
      "source": [
        "plt.hist(Y)"
      ]
    },
    {
      "cell_type": "code",
      "execution_count": null,
      "metadata": {
        "id": "FHjj_NVx48sG",
        "outputId": "fb144145-a975-4309-c4bd-e4e82871d088"
      },
      "outputs": [
        {
          "data": {
            "text/plain": [
              "(array([12.,  0.,  0.,  0.,  0.,  0.,  0.,  0.,  0., 13.]),\n",
              " array([0. , 0.1, 0.2, 0.3, 0.4, 0.5, 0.6, 0.7, 0.8, 0.9, 1. ]),\n",
              " <BarContainer object of 10 artists>)"
            ]
          },
          "execution_count": 105,
          "metadata": {},
          "output_type": "execute_result"
        },
        {
          "data": {
            "image/png": "[encoded data removed]",
            "text/plain": [
              "<Figure size 640x480 with 1 Axes>"
            ]
          },
          "metadata": {},
          "output_type": "display_data"
        }
      ],
      "source": [
        "plt.hist(Y_test[:25])"
      ]
    },
    {
      "cell_type": "code",
      "execution_count": null,
      "metadata": {
        "id": "_iUq5b8x48sG"
      },
      "outputs": [],
      "source": [
        "a=25\n",
        "Y_test=Y_test[:a]\n",
        "X_test=X_test[:a]"
      ]
    },
    {
      "cell_type": "markdown",
      "metadata": {
        "id": "131IHAEh48sG"
      },
      "source": [
        "# MALA Approach.\n",
        "\n",
        "Before considering the application, let's make a brief reminder of what MALA consist in a theoretical point of view!\n",
        "The dynamics is a Langevin dynamics that is here discretized according to the first order Euler discretization (other discretizations exist but we did not regard them in that work), ie. :\n",
        "\\begin{align}\n",
        "\\theta_{n+1} = \\theta_n + \\frac{\\epsilon}{2} \\nabla \\log p(\\theta_n) + \\epsilon \\cdot z_n\n",
        "\\end{align}\n",
        "\n",
        "with $z_n$ a random observation from a standard gaussian.\n",
        "\n",
        "frow which we generate a proposal density, rejected or not according to a Metropolis-Hasting acceptance probability, and therefore theoretically ensuring we will have at the end of the execution a sampling from the best parameters of the bayesian-grounded model (the principle of the MCMC).\n",
        "\n",
        "\n",
        "\n",
        "\n"
      ]
    },
    {
      "cell_type": "code",
      "execution_count": null,
      "metadata": {
        "id": "Bff8G6X648sH"
      },
      "outputs": [],
      "source": [
        "def log_lik(X,Y,beta):\n",
        "    N=150\n",
        "    k=10\n",
        "    beta_t=beta.transpose()\n",
        "    X_t=X.transpose()\n",
        "    ll=np.dot(beta_t,np.dot(X_t,Y))\n",
        "    for i in range(N):\n",
        "        ll=ll-np.log(1+np.exp(np.dot((X[i,:].reshape(k,1)),beta.reshape(1,k))))\n",
        "    return ll[0][0]"
      ]
    },
    {
      "cell_type": "code",
      "execution_count": null,
      "metadata": {
        "id": "4U_wdA3n48sH",
        "outputId": "8423e47a-a410-4acc-e10a-20ac681bb381"
      },
      "outputs": [
        {
          "data": {
            "text/plain": [
              "-98.69730803774613"
            ]
          },
          "execution_count": 109,
          "metadata": {},
          "output_type": "execute_result"
        }
      ],
      "source": [
        "log_lik(X,Y,beta_none)"
      ]
    },
    {
      "cell_type": "code",
      "execution_count": null,
      "metadata": {
        "id": "Ts_cRZqF48sH"
      },
      "outputs": [],
      "source": [
        "def link_fun(x):\n",
        "    return 1/(1+np.exp(-x))"
      ]
    },
    {
      "cell_type": "code",
      "execution_count": null,
      "metadata": {
        "id": "1nm-vCUR48sH"
      },
      "outputs": [],
      "source": [
        "def density_value(beta,mu,var_):\n",
        "    beta=beta.reshape(k,1)\n",
        "    mu=mu.reshape(k,1)\n",
        "    gap=beta-mu\n",
        "    gap_t=gap.transpose()\n",
        "    pi=np.pi\n",
        "    det=np.linalg.det(var_)\n",
        "    in_var=np.linalg.inv(var_)\n",
        "    const_=np.sqrt(((2*np.pi)**k)*det)\n",
        "    inv_const=np.round(1/const_,100)\n",
        "    v=np.dot(gap_t,np.dot(in_var,gap))\n",
        "    x=np.exp((-1/2)*v)\n",
        "    value=inv_const*x\n",
        "    return value[0][0]"
      ]
    },
    {
      "cell_type": "code",
      "execution_count": null,
      "metadata": {
        "id": "cRSKHhrD48sH",
        "outputId": "993c4468-43e7-4c3d-9226-94bd8730a8de"
      },
      "outputs": [
        {
          "data": {
            "text/plain": [
              "((150, 10), 150)"
            ]
          },
          "execution_count": 116,
          "metadata": {},
          "output_type": "execute_result"
        }
      ],
      "source": [
        "X.shape,N"
      ]
    },
    {
      "cell_type": "code",
      "execution_count": null,
      "metadata": {
        "id": "5fbioDdL48sH"
      },
      "outputs": [],
      "source": [
        "def grad_log_lik(X,Y,beta):\n",
        "    N,k=150,10\n",
        "    X_t=X.transpose()\n",
        "    gll=X_t@Y\n",
        "    for i in range(N):\n",
        "        value=np.dot(X[i,:],beta)[0]\n",
        "        gll=gll-link_fun(value)*(X[i,:].reshape(k,1))\n",
        "    return gll\n",
        ""
      ]
    },
    {
      "cell_type": "code",
      "execution_count": null,
      "metadata": {
        "id": "2dhdA3tg48sI",
        "outputId": "c532eeae-077d-432c-9430-da8bd0b8426a"
      },
      "outputs": [
        {
          "data": {
            "text/plain": [
              "array([[-0.62752098],\n",
              "       [ 5.99341883],\n",
              "       [ 3.69173049],\n",
              "       [ 5.32207142],\n",
              "       [ 6.55504528],\n",
              "       [ 6.88127673],\n",
              "       [ 8.93746588],\n",
              "       [10.20302024],\n",
              "       [ 5.8078722 ],\n",
              "       [ 9.01090276]])"
            ]
          },
          "execution_count": 118,
          "metadata": {},
          "output_type": "execute_result"
        }
      ],
      "source": [
        "grad_log_lik(X,Y,beta_none)"
      ]
    },
    {
      "cell_type": "code",
      "execution_count": null,
      "metadata": {
        "id": "tT8_xi3u48sI"
      },
      "outputs": [],
      "source": [
        "def mala_drawner(X,Y,curren_beta):\n",
        "    z=np.random.randn(k,1)\n",
        "    e=learning_rate\n",
        "    gll=grad_log_lik(X,Y,curren_beta)\n",
        "    proposal_value=curren_beta+e*gll+np.sqrt(2*e)*z\n",
        "    return proposal_value\n"
      ]
    },
    {
      "cell_type": "code",
      "execution_count": null,
      "metadata": {
        "id": "OBpQakAK48sI",
        "outputId": "17eb4372-f750-4db5-94df-384b999ecaed"
      },
      "outputs": [
        {
          "data": {
            "text/plain": [
              "(array([[-0.03890401],\n",
              "        [-0.06027847],\n",
              "        [-0.05959501],\n",
              "        [-0.03261993],\n",
              "        [ 0.04846103]]),\n",
              " array([[0.01],\n",
              "        [0.02],\n",
              "        [0.03],\n",
              "        [0.04],\n",
              "        [0.05]]))"
            ]
          },
          "execution_count": 120,
          "metadata": {},
          "output_type": "execute_result"
        }
      ],
      "source": [
        "mala_drawner(X,Y,beta_none)[0:5],beta_none[0:5]"
      ]
    },
    {
      "cell_type": "code",
      "execution_count": null,
      "metadata": {
        "id": "X-EfbqRO48sI",
        "outputId": "a195a2e7-8f9f-4e8c-d543-ac689833c2a1"
      },
      "outputs": [
        {
          "data": {
            "text/plain": [
              "array([[0.04105595],\n",
              "       [0.03430963],\n",
              "       [0.014124  ],\n",
              "       [0.02314845],\n",
              "       [0.09066723],\n",
              "       [0.0844937 ],\n",
              "       [0.14366486],\n",
              "       [0.11261223],\n",
              "       [0.16113384],\n",
              "       [0.08099875]])"
            ]
          },
          "execution_count": 121,
          "metadata": {},
          "output_type": "execute_result"
        }
      ],
      "source": [
        "mala_drawner(X,Y,beta_none)"
      ]
    },
    {
      "cell_type": "code",
      "execution_count": null,
      "metadata": {
        "id": "UppJnZFU48sI"
      },
      "outputs": [],
      "source": [
        "def MALA_proposal_mean(X,Y,current_beta):\n",
        "   #e=0.001*learning_rate\n",
        "   e=learning_rate\n",
        "   gll=grad_log_lik(X,Y,current_beta)\n",
        "   prop_mean=current_beta+e*gll\n",
        "\n",
        "   return prop_mean\n"
      ]
    },
    {
      "cell_type": "code",
      "execution_count": null,
      "metadata": {
        "id": "RWs3zZ-l48sI",
        "outputId": "551e8584-8ed0-439d-df11-5a0366d9bc4b"
      },
      "outputs": [
        {
          "data": {
            "text/plain": [
              "array([[0.00937248],\n",
              "       [0.02599342],\n",
              "       [0.03369173],\n",
              "       [0.04532207],\n",
              "       [0.05655505],\n",
              "       [0.06688128],\n",
              "       [0.07893747],\n",
              "       [0.09020302],\n",
              "       [0.09580787],\n",
              "       [0.1090109 ]])"
            ]
          },
          "execution_count": 123,
          "metadata": {},
          "output_type": "execute_result"
        }
      ],
      "source": [
        "MALA_proposal_mean(X,Y,beta_none)"
      ]
    },
    {
      "cell_type": "code",
      "execution_count": null,
      "metadata": {
        "id": "OU2rXCxP48sI"
      },
      "outputs": [],
      "source": [
        "def MALA_proposal_var():\n",
        "    #e=0.001*learning_rate\n",
        "    e=learning_rate\n",
        "    prop_var=(e)*np.identity(k)\n",
        "\n",
        "    return prop_var"
      ]
    },
    {
      "cell_type": "code",
      "execution_count": null,
      "metadata": {
        "id": "pFYLS-fb48sJ"
      },
      "outputs": [],
      "source": [
        "def MALA_aceptance_rate(beta1,beta2,X=X,Y=Y):\n",
        "    ee=0.00001\n",
        "    q_var=MALA_proposal_var()\n",
        "    q_mu1=MALA_proposal_mean(X,Y,beta1)\n",
        "    q_mu2=MALA_proposal_mean(X,Y,beta2)\n",
        "    #   prior density\n",
        "    p1=density_value(beta1,mu,var_)\n",
        "    p2=density_value(beta2,mu,var_)\n",
        "    # proposal density\n",
        "    q1=density_value(beta1,q_mu1,q_var)\n",
        "    q2=density_value(beta2,q_mu2,q_var)\n",
        "    rate= ee+ ((p2*q1)+ee)/((p1*q2)+ee)\n",
        "    return np.log(rate)"
      ]
    },
    {
      "cell_type": "code",
      "execution_count": null,
      "metadata": {
        "id": "Oi1AlVlV48sJ"
      },
      "outputs": [],
      "source": [
        "mu=np.zeros(k)\n",
        "sigma=2 # \" dans la papier sigma_square=100\"\n",
        "var_=sigma*sigma*np.identity(k)"
      ]
    },
    {
      "cell_type": "code",
      "execution_count": null,
      "metadata": {
        "id": "LRN5_LSS48sJ",
        "outputId": "2e2eb91c-6c35-48cd-8b83-bb6d67f8bcaf"
      },
      "outputs": [
        {
          "data": {
            "text/plain": [
              "-0.027546955551936075"
            ]
          },
          "execution_count": 129,
          "metadata": {},
          "output_type": "execute_result"
        }
      ],
      "source": [
        "MALA_aceptance_rate(np.zeros(k).reshape(k,1),beta_none)"
      ]
    },
    {
      "cell_type": "code",
      "execution_count": null,
      "metadata": {
        "id": "O_i_Gn3048sJ"
      },
      "outputs": [],
      "source": [
        "def MALA_one_iter(beta,X=X,Y=Y):\n",
        "    prop_beta=mala_drawner(X,Y,beta)\n",
        "    log_rate=MALA_aceptance_rate(beta,prop_beta,X=X,Y=Y)\n",
        "    u=np.random.uniform(0, 1)\n",
        "    ee=0.00001\n",
        "    if (log_rate>0) or (log_rate>np.log(u+ee)):\n",
        "        return prop_beta\n",
        "    else :\n",
        "        return beta\n",
        ""
      ]
    },
    {
      "cell_type": "code",
      "execution_count": null,
      "metadata": {
        "id": "mdA86agg48sJ",
        "outputId": "430fe970-8d0b-4ed5-919f-316f23a38045"
      },
      "outputs": [
        {
          "data": {
            "text/plain": [
              "(array([[0.02274081],\n",
              "        [0.06130384],\n",
              "        [0.07552975]]),\n",
              " array([[0.01],\n",
              "        [0.02],\n",
              "        [0.03]]))"
            ]
          },
          "execution_count": 131,
          "metadata": {},
          "output_type": "execute_result"
        }
      ],
      "source": [
        "MALA_one_iter(beta_none,X=X,Y=Y)[0:3],beta_none[0:3]"
      ]
    },
    {
      "cell_type": "code",
      "execution_count": null,
      "metadata": {
        "id": "ulLFYjqB48sK"
      },
      "outputs": [],
      "source": [
        "def MALA_Run(X=X,Y=Y,B=1,initial_state=np.zeros(k).reshape(k,1)):\n",
        "    current_beta=initial_state\n",
        "    beta_chaine=[]\n",
        "    for i in range(B):\n",
        "        current_beta=MALA_one_iter(current_beta,X=X,Y=Y)\n",
        "        beta_chaine.append(current_beta)\n",
        "\n",
        "    return beta_chaine"
      ]
    },
    {
      "cell_type": "code",
      "execution_count": null,
      "metadata": {
        "id": "tMyDLf6A48sK",
        "outputId": "36c69577-7dbc-4d94-e328-86b7aa093d4b"
      },
      "outputs": [
        {
          "data": {
            "text/plain": [
              "(array([3.89537981]), array([0.1]))"
            ]
          },
          "execution_count": 133,
          "metadata": {},
          "output_type": "execute_result"
        }
      ],
      "source": [
        "MALA_chaine=MALA_Run(B=3000)\n",
        "Beta_MALA=MALA_chaine[-1]\n",
        "Beta_MALA[-1],beta_none[-1]"
      ]
    },
    {
      "cell_type": "code",
      "execution_count": null,
      "metadata": {
        "id": "PmC6zkbA48sK",
        "outputId": "787b7f90-43f0-494a-93df-f8f80c425e9d"
      },
      "outputs": [
        {
          "data": {
            "text/plain": [
              "[-0.09417494770231037, -0.04863853995524176]"
            ]
          },
          "execution_count": 139,
          "metadata": {},
          "output_type": "execute_result"
        }
      ],
      "source": [
        "beta_1_MALA=[MALA_chaine[i][0][0] for i in range(B)]\n",
        "beta_1_MALA[1:3]"
      ]
    },
    {
      "cell_type": "code",
      "execution_count": null,
      "metadata": {
        "id": "garwUyEn48sK",
        "outputId": "bade6c0b-70ef-4121-ebd7-88fecf0d195c"
      },
      "outputs": [
        {
          "data": {
            "image/png": "[encoded data removed]",
            "text/plain": [
              "<Figure size 640x480 with 1 Axes>"
            ]
          },
          "metadata": {},
          "output_type": "display_data"
        }
      ],
      "source": [
        "import matplotlib.pyplot as plt\n",
        "\n",
        "# Liste des valeurs générées\n",
        "valeurs = beta_1_MALA # Remplacez ... par vos valeurs\n",
        "\n",
        "# Liste des instants de temps correspondants\n",
        "temps = [i/3000 for i in range(3000)]  # Remplacez ... par vos instants de temps\n",
        "\n",
        "# Tracé du graphique\n",
        "plt.plot(temps, valeurs, marker='o', linestyle='-')\n",
        "plt.axhline(y=beta_none[0], color='r', linestyle='--', label='y=2')\n",
        "\n",
        "\n",
        "# Ajout de titres et d'étiquettes d'axe\n",
        "plt.title('Suite de réels générée par un MALA')\n",
        "plt.xlabel('Temps')\n",
        "plt.ylabel('Valeurs')\n",
        "\n",
        "# Affichage du graphique\n",
        "plt.grid(True)  # Ajoute une grille\n",
        "plt.show()\n"
      ]
    },
    {
      "cell_type": "code",
      "execution_count": null,
      "metadata": {
        "id": "F-Y9lDRH48sK"
      },
      "outputs": [],
      "source": [
        "def predictor(X,beta_hat):\n",
        "    N=X.shape[0]\n",
        "    Pred_Probas=np.zeros(N)\n",
        "    Y_pred=np.zeros(N)\n",
        "    for i in range(N):\n",
        "        value=np.dot(X[i,:],beta_hat)[0]\n",
        "        Pred_Probas[i]=link_fun(value)\n",
        "        Y_pred[i]=indicator(Pred_Probas[i]-0.5)\n",
        "\n",
        "    return Y_pred"
      ]
    },
    {
      "cell_type": "code",
      "execution_count": null,
      "metadata": {
        "id": "97oLsZb_48sL",
        "outputId": "9ebdc3d9-4f29-48b6-e483-cb811723b902"
      },
      "outputs": [
        {
          "data": {
            "text/plain": [
              "(150,)"
            ]
          },
          "execution_count": 149,
          "metadata": {},
          "output_type": "execute_result"
        }
      ],
      "source": [
        "beta_MALA=MALA_chaine[-1]\n",
        "y_pred_MALA = predictor(X,beta_MALA)\n",
        "y_pred_MALA.shape"
      ]
    },
    {
      "cell_type": "code",
      "execution_count": null,
      "metadata": {
        "id": "C1VyNJoB48sL",
        "outputId": "533befd8-6e9f-4fc2-fef2-46258977add0"
      },
      "outputs": [
        {
          "data": {
            "image/png": "[encoded data removed]",
            "text/plain": [
              "<Figure size 800x600 with 1 Axes>"
            ]
          },
          "metadata": {},
          "output_type": "display_data"
        }
      ],
      "source": [
        "import numpy as np\n",
        "import matplotlib.pyplot as plt\n",
        "from sklearn.metrics import confusion_matrix\n",
        "import seaborn as sns\n",
        "\n",
        "\n",
        "\n",
        "# Calculer la matrice de confusion\n",
        "conf_matrix = confusion_matrix(Y, y_pred_MALA)\n",
        "\n",
        "# Étiquettes des classes\n",
        "class_names = ['Classe 0', 'Classe 1']\n",
        "\n",
        "# Tracer la matrice de confusion\n",
        "plt.figure(figsize=(8, 6))\n",
        "sns.set(font_scale=1.2)  # Ajuster la taille de la police\n",
        "sns.heatmap(conf_matrix, annot=True, fmt='d', cmap='Blues', cbar=False, annot_kws={\"size\": 14}, xticklabels=class_names, yticklabels=class_names)\n",
        "plt.xlabel('Classe prédite')\n",
        "plt.ylabel('Classe réelle')\n",
        "plt.title('Matrice de confusion')\n",
        "plt.show()\n"
      ]
    },
    {
      "cell_type": "code",
      "execution_count": null,
      "metadata": {
        "id": "JXoo0yw548sV",
        "outputId": "0efe4055-819d-4600-c3cb-e4fe40ba4615"
      },
      "outputs": [
        {
          "data": {
            "text/plain": [
              "(25,)"
            ]
          },
          "execution_count": 150,
          "metadata": {},
          "output_type": "execute_result"
        }
      ],
      "source": [
        "beta_MALA=MALA_chaine[-1]\n",
        "y_pred_test_MALA = predictor(X_test,beta_MALA)\n",
        "y_pred_test_MALA.shape"
      ]
    },
    {
      "cell_type": "code",
      "execution_count": null,
      "metadata": {
        "id": "nEFz_i4p48sW",
        "outputId": "3e70fe15-73d9-4641-f933-ba1b459ca962"
      },
      "outputs": [
        {
          "data": {
            "image/png": "[encoded data removed]",
            "text/plain": [
              "<Figure size 800x600 with 1 Axes>"
            ]
          },
          "metadata": {},
          "output_type": "display_data"
        }
      ],
      "source": [
        "import numpy as np\n",
        "import matplotlib.pyplot as plt\n",
        "from sklearn.metrics import confusion_matrix\n",
        "import seaborn as sns\n",
        "\n",
        "\n",
        "\n",
        "# Calculer la matrice de confusion\n",
        "conf_matrix = confusion_matrix(Y_test, y_pred_test_MALA)\n",
        "\n",
        "# Étiquettes des classes\n",
        "class_names = ['Classe 0', 'Classe 1']\n",
        "\n",
        "# Tracer la matrice de confusion\n",
        "plt.figure(figsize=(8, 6))\n",
        "sns.set(font_scale=1.2)  # Ajuster la taille de la police\n",
        "sns.heatmap(conf_matrix, annot=True, fmt='d', cmap='Blues', cbar=False, annot_kws={\"size\": 14}, xticklabels=class_names, yticklabels=class_names)\n",
        "plt.xlabel('Classe prédite')\n",
        "plt.ylabel('Classe réelle')\n",
        "plt.title('Matrice de confusion')\n",
        "plt.show()\n"
      ]
    },
    {
      "cell_type": "markdown",
      "metadata": {
        "id": "9FHHb-Zn48sW"
      },
      "source": [
        "# mMALA Approach\n",
        "\n",
        "Before considering the code, let's see what is the theoretical background ot the mMala. mMala's trajectory is somehow more sophisticated than the Mala's one as it tries to take advantage of a geometrics induced by the specfication of the model, ie. it will focus on some parts of the considered space ($R^n$ for example). What is in charge of doing so is G, a matrix (metric tensor) that is embedded in the dynamics. So, let's see the mMala dynamics, which is in continuous:\n",
        "\n",
        "$\\theta(t) = \\theta_0 + \\int_{0}^{t} \\frac{\\epsilon}{2} \\nabla \\log p(\\theta(s)) \\, ds + \\epsilon \\int_{0}^{t}\\, dB_s$\n",
        "\n",
        "avec ici  $ dB_ {i} $ (t)=|G( $ \\theta $ (t)) $ |^ {-1/2} $ $ $ $ \\sum _ {i=1}^ {n} $ $ \\frac {\\partial}{\\partial \\theta_j } $ ( $ G^ {-1} $ $ (\\theta (t))_ {ij} $ |G( $\\theta $ (t))| $ ^ {2} $ )dt+( $ \\sqrt{G}^{-1} $ ( $ \\theta $ (t))db(t)\n",
        "\n",
        "where b is a standard gaussian.\n",
        "\n",
        " $ \\theta _ {i}^ {n+1} $\n",
        "= $ \\theta _ {i}^ {n} $ + $ \\frac {\\epsilon ^ {2}}{2} $ $ (G^ {-1}(\\theta ^ {n})\\nabla L(\\theta ^ {n}))_ {i} $ - $ \\epsilon ^ {2} $ $ \\sum _ {i=1}^ {D} $ ( $ G^ {-1} $ ( $ \\theta ^ {n} $ ) $ \\frac {\\partial G(\\partial ^ {n})}{\\partial\\theta _ {j}} $ $ G^ {-1} $ ( $ \\theta ^ {n} $ ) +  $ \\frac {\\epsilon^ {2}}{2} $ $ \\sum _ {i=1}^ {n} $ $ (G^ {-1}(\\theta ^ {n}))_ {ij} $ Tr( $ G^ {-1} $ ( $ \\theta ^ {n} $ ) $ \\frac {\\partial G(\\theta ^ {n})}{\\partial\\theta ;} $ ) +($\\epsilon$$\\sqrt {G^ {-1}(\\theta ^ {n})^ {n}} $ )\n",
        "\n",
        "The choice of G is not unique (there are as much G as models) but in our case (bayesian logistic regression) we computed the following metric G:\n",
        "\n",
        "G( $ \\beta $ )= $ E_ {t, x, \\beta,\\alpha}$(-$\\nabla$ $ \\nabla $ L( $ \\beta $ )+ $ \\alpha ^ {-1} $ $ I $) =x'Ax+ $ \\alpha ^ {-1} $ $I$\n",
        "\n",
        "Which is determined according to the log-likelihood of the model.\n",
        "\n",
        "\n",
        "\n",
        "\n",
        "\n",
        "\n"
      ]
    },
    {
      "cell_type": "code",
      "execution_count": null,
      "metadata": {
        "id": "gZx1uf5248sW"
      },
      "outputs": [],
      "source": [
        "def get_Lambda_Matrix(X,beta):\n",
        "    beta_t=beta.reshape(k,1)\n",
        "    left_real_values=[link_fun(np.dot(X[i,:].reshape(1,k),beta_t)[0][0]) for i in range(N)]\n",
        "    real_values=[np.round(left_real_values[i]*(1-left_real_values[i]),100) for i in range(N)]\n",
        "    Lambda_matrix=np.diag(real_values)\n",
        "\n",
        "    return Lambda_matrix\n"
      ]
    },
    {
      "cell_type": "code",
      "execution_count": null,
      "metadata": {
        "id": "CHrVK4hD48sW",
        "outputId": "a20bd84d-d489-4ebc-ffde-a53a2c671d91"
      },
      "outputs": [
        {
          "data": {
            "text/plain": [
              "(150, 150)"
            ]
          },
          "execution_count": 153,
          "metadata": {},
          "output_type": "execute_result"
        }
      ],
      "source": [
        "get_Lambda_Matrix(X,beta_none).shape"
      ]
    },
    {
      "cell_type": "code",
      "execution_count": null,
      "metadata": {
        "id": "1fF-pf9148sW"
      },
      "outputs": [],
      "source": [
        "def Tensor_metric_G(X,beta):\n",
        "    Lambda_Matrix=get_Lambda_Matrix(X,beta)\n",
        "    X_t=X.transpose()\n",
        "    G_of_beta=X_t@(Lambda_Matrix@X)-sigma*np.identity(k)\n",
        "\n",
        "    return G_of_beta"
      ]
    },
    {
      "cell_type": "code",
      "execution_count": null,
      "metadata": {
        "id": "zRbAgK5Q48sW",
        "outputId": "4d3ed264-1cc1-4f2c-c823-76456a13e87d"
      },
      "outputs": [
        {
          "data": {
            "text/plain": [
              "(10, 10)"
            ]
          },
          "execution_count": 155,
          "metadata": {},
          "output_type": "execute_result"
        }
      ],
      "source": [
        "Tensor_metric_G(X,beta_none).shape"
      ]
    },
    {
      "cell_type": "code",
      "execution_count": null,
      "metadata": {
        "id": "rcIv_oB_48sW"
      },
      "outputs": [],
      "source": [
        "def compute_V_i(X,i,beta):\n",
        "    #diag_elts=[(1-2*link_fun_value(X[n],beta_))*X[n,i] for n in range(N)]\n",
        "    beta_t=beta.reshape(1,k)\n",
        "    diag_elts=[(1-2*link_fun(np.dot(X[i,:].reshape(k,1),beta_t)[0][0])) for i in range(N)]\n",
        "    V_i_Matrix=np.diag(diag_elts)\n",
        "    return V_i_Matrix"
      ]
    },
    {
      "cell_type": "code",
      "execution_count": null,
      "metadata": {
        "id": "DV_dy80O48sW"
      },
      "outputs": [],
      "source": [
        "def get_G_partial_derivative(X,i,beta):\n",
        "    X_t=X.transpose()\n",
        "    Lambda_Matrix=get_Lambda_Matrix(X,beta) #get_Lambda_Matrix(X,beta_none)\n",
        "    V_i_Matrix=compute_V_i(X,i,beta)\n",
        "    G_partial_derivative_Matrix=X_t@Lambda_Matrix@V_i_Matrix@X\n",
        "\n",
        "    return G_partial_derivative_Matrix"
      ]
    },
    {
      "cell_type": "code",
      "execution_count": null,
      "metadata": {
        "id": "He2Epjam48sX",
        "outputId": "46cac83c-1189-46f4-c422-da95fc6025f9"
      },
      "outputs": [
        {
          "data": {
            "text/plain": [
              "(150, 150)"
            ]
          },
          "execution_count": 160,
          "metadata": {},
          "output_type": "execute_result"
        }
      ],
      "source": [
        "compute_V_i(X,0,beta_none).shape"
      ]
    },
    {
      "cell_type": "code",
      "execution_count": null,
      "metadata": {
        "id": "U_DdjiJ448sX",
        "outputId": "d50b3e79-c6a4-402b-b29f-b3ad1a60479c"
      },
      "outputs": [
        {
          "data": {
            "text/plain": [
              "(10, 10)"
            ]
          },
          "execution_count": 161,
          "metadata": {},
          "output_type": "execute_result"
        }
      ],
      "source": [
        "get_G_partial_derivative(X,0,beta_none).shape"
      ]
    },
    {
      "cell_type": "code",
      "execution_count": null,
      "metadata": {
        "id": "XlUO_t5F48sX"
      },
      "outputs": [],
      "source": [
        "def proposal_Distribution_mean(X,Y,beta):\n",
        "    e=learning_rate\n",
        "    G=Tensor_metric_G(X,beta) #Tensor_metric_G(X,beta)\n",
        "    inv_G=np.linalg.inv(G)\n",
        "\n",
        "    term2=(1/2)*(e**2)*inv_G@grad_log_lik(X,Y,beta)\n",
        "    term3=np.zeros(k)\n",
        "    term4=np.zeros(k)\n",
        "    for j in range(k):\n",
        "        term3=term3-(e**2)*(inv_G@get_G_partial_derivative(X,j,beta)@inv_G)[:,j]\n",
        "    for j in range(k):\n",
        "        terme4=term4+(e**2)*inv_G[:,j]*np.trace(inv_G@get_G_partial_derivative(X,j,beta))\n",
        "\n",
        "    proposal_mean=beta.reshape(k,1)+term2+term3.reshape(k,1)+term4.reshape(k,1)\n",
        "    return proposal_mean\n",
        ""
      ]
    },
    {
      "cell_type": "code",
      "execution_count": null,
      "metadata": {
        "id": "guOFEDR948sX",
        "outputId": "72274f54-2fd2-4b89-c793-34a9bf4a3780"
      },
      "outputs": [
        {
          "data": {
            "text/plain": [
              "(10, 1)"
            ]
          },
          "execution_count": 163,
          "metadata": {},
          "output_type": "execute_result"
        }
      ],
      "source": [
        "proposal_Distribution_mean(X,Y,beta_none).shape\n"
      ]
    },
    {
      "cell_type": "code",
      "execution_count": null,
      "metadata": {
        "id": "oNCXzPpT48sX"
      },
      "outputs": [],
      "source": [
        "def get_matrix_sqrt(X):\n",
        "    U, s, V = np.linalg.svd(X)\n",
        "\n",
        "# Racine carrée des valeurs singulières\n",
        "    s_sqrt = np.sqrt(s)\n",
        "\n",
        "# Reconstruction de la matrice racine carrée\n",
        "    X_sqrt = U.dot(np.diag(s_sqrt)).dot(V)\n",
        "\n",
        "    return X_sqrt"
      ]
    },
    {
      "cell_type": "code",
      "execution_count": null,
      "metadata": {
        "id": "ioSvNeAq48sX"
      },
      "outputs": [],
      "source": [
        "def proposal_Distribution_std_matrix_fun(X,beta): # c'est plutot l'cartype\n",
        "    e=learning_rate\n",
        "    G=Tensor_metric_G(X,beta)\n",
        "    inv_G=np.linalg.inv(G)\n",
        "    inv_G_sqrt=get_matrix_sqrt(inv_G)\n",
        "\n",
        "    return e*inv_G_sqrt"
      ]
    },
    {
      "cell_type": "code",
      "execution_count": null,
      "metadata": {
        "id": "OWkM_enB48sY",
        "outputId": "ac43721e-5eca-470b-b6e5-0a3f754be664"
      },
      "outputs": [
        {
          "data": {
            "text/plain": [
              "(10, 10)"
            ]
          },
          "execution_count": 168,
          "metadata": {},
          "output_type": "execute_result"
        }
      ],
      "source": [
        "proposal_Distribution_std_matrix_fun(X,beta_none).shape"
      ]
    },
    {
      "cell_type": "code",
      "execution_count": null,
      "metadata": {
        "id": "Qqgxfjnb48sY",
        "outputId": "73594098-115d-462e-977d-9740f818ba0b"
      },
      "outputs": [
        {
          "data": {
            "text/plain": [
              "(10, 10)"
            ]
          },
          "execution_count": 169,
          "metadata": {},
          "output_type": "execute_result"
        }
      ],
      "source": [
        "proposal_Distribution_std_matrix_fun(X,beta_none).shape"
      ]
    },
    {
      "cell_type": "code",
      "execution_count": null,
      "metadata": {
        "id": "MeqjS13f48sY"
      },
      "outputs": [],
      "source": [
        "def beta_drawner(X,Y,beta):\n",
        "    mean_=proposal_Distribution_mean(X,Y,beta) #( 10,1)\n",
        "    std_matrix=proposal_Distribution_std_matrix_fun(X,beta)  # (10,10)\n",
        "    Z=np.random.randn(k,1)\n",
        "    proposed_teta=mean_+std_matrix@Z\n",
        "\n",
        "    return proposed_teta"
      ]
    },
    {
      "cell_type": "code",
      "execution_count": null,
      "metadata": {
        "id": "b_sFHioE48sY",
        "outputId": "65173708-9712-4783-b327-98c8c109307b"
      },
      "outputs": [
        {
          "data": {
            "text/plain": [
              "(10, 1)"
            ]
          },
          "execution_count": 172,
          "metadata": {},
          "output_type": "execute_result"
        }
      ],
      "source": [
        "beta_drawner(X,Y,beta_none).shape"
      ]
    },
    {
      "cell_type": "code",
      "execution_count": null,
      "metadata": {
        "id": "qbRjKo3K48sY"
      },
      "outputs": [],
      "source": [
        "def Acceptance_Rati(beta1, beta2, X, Y, ):\n",
        "\n",
        "    ee=0.00001\n",
        "    q_mu1=proposal_Distribution_mean(X,Y,beta1)\n",
        "    q_mu2=proposal_Distribution_mean(X,Y,beta2)\n",
        "    #   prior density\n",
        "    var_=std@(std.transpose())\n",
        "    p1=density_value(beta1,mu,var_)\n",
        "    p2=density_value(beta2,mu,var_)\n",
        "    # proposal density\n",
        "    std1=proposal_Distribution_std_matrix_fun(X,beta1)\n",
        "    std2=proposal_Distribution_std_matrix_fun(X,beta2)\n",
        "    q_var1=std1@(std1.transpose())\n",
        "    q_var2=std1@(std2.transpose())\n",
        "\n",
        "\n",
        "    q1=density_value(beta1,q_mu1,q_var1)\n",
        "    q2=density_value(beta2,q_mu2,q_var2)\n",
        "    rate= ee+ ((p2*q1)+ee)/((p1*q2)+ee)\n",
        "    return np.log(rate)\n",
        "\n"
      ]
    },
    {
      "cell_type": "code",
      "execution_count": null,
      "metadata": {
        "id": "Cl9a4S4T48sY",
        "outputId": "0e6d8c70-2fa8-4bcc-994d-fb6022058198"
      },
      "outputs": [
        {
          "data": {
            "text/plain": [
              "9.999950000398841e-06"
            ]
          },
          "execution_count": 174,
          "metadata": {},
          "output_type": "execute_result"
        }
      ],
      "source": [
        "Acceptance_Rati(beta_none,beta_none,X,Y)"
      ]
    },
    {
      "cell_type": "code",
      "execution_count": null,
      "metadata": {
        "id": "2brQ1NCc48sZ"
      },
      "outputs": [],
      "source": [
        "def mMALA_one_iter(beta,X=X,Y=Y):\n",
        "    prop_beta=beta_drawner(X,Y,beta)\n",
        "    log_rate=Acceptance_Rati(beta,prop_beta,X=X,Y=Y)\n",
        "    u=np.random.uniform(0, 1)\n",
        "    ee=0.00001\n",
        "    if (log_rate>0) or (log_rate>np.log(u+ee)):\n",
        "        return prop_beta\n",
        "    else :\n",
        "        return beta\n",
        ""
      ]
    },
    {
      "cell_type": "code",
      "execution_count": null,
      "metadata": {
        "id": "xOiCjah948sZ",
        "outputId": "d2a51de1-b865-464d-ea39-fb6e5154e5c8"
      },
      "outputs": [
        {
          "data": {
            "text/plain": [
              "array([[0.00995055],\n",
              "       [0.02049216],\n",
              "       [0.02936461],\n",
              "       [0.03641798],\n",
              "       [0.05039752],\n",
              "       [0.05945114],\n",
              "       [0.06971794],\n",
              "       [0.0804746 ],\n",
              "       [0.08927876],\n",
              "       [0.1003917 ]])"
            ]
          },
          "execution_count": 176,
          "metadata": {},
          "output_type": "execute_result"
        }
      ],
      "source": [
        "mMALA_one_iter(beta_none)"
      ]
    },
    {
      "cell_type": "code",
      "execution_count": null,
      "metadata": {
        "id": "pLhdOiyZ48sZ"
      },
      "outputs": [],
      "source": [
        "def mMALA_Run(X=X,Y=Y,B=1,initial_state=np.zeros(k).reshape(k,1)):\n",
        "    current_beta=initial_state\n",
        "    beta_chaine=[]\n",
        "    for i in range(B):\n",
        "        current_beta=mMALA_one_iter(current_beta,X=X,Y=Y)\n",
        "        beta_chaine.append(current_beta)\n",
        "\n",
        "    return beta_chaine\n"
      ]
    },
    {
      "cell_type": "code",
      "execution_count": null,
      "metadata": {
        "id": "LA7Yo7OP48sZ",
        "outputId": "591d92a0-62d9-478b-962a-5cefdca23278"
      },
      "outputs": [
        {
          "data": {
            "text/plain": [
              "(array([-0.01759786]), array([0.1]))"
            ]
          },
          "execution_count": 180,
          "metadata": {},
          "output_type": "execute_result"
        }
      ],
      "source": [
        "mMALA_chaine=mMALA_Run(B=3000)\n",
        "Beta_mMALA=mMALA_chaine[-1]\n",
        "Beta_mMALA[-1],beta_none[-1]"
      ]
    },
    {
      "cell_type": "code",
      "execution_count": null,
      "metadata": {
        "id": "GSU5LoBf48sa",
        "outputId": "124217b6-376c-4060-b20b-8ead322242c5"
      },
      "outputs": [
        {
          "data": {
            "text/plain": [
              "[0.00035288929885345446, 0.0013373107931075562]"
            ]
          },
          "execution_count": 182,
          "metadata": {},
          "output_type": "execute_result"
        }
      ],
      "source": [
        "beta_1_mMALA=[mMALA_chaine[i][0][0] for i in range(B)]\n",
        "beta_1_mMALA[1:3]"
      ]
    },
    {
      "cell_type": "code",
      "execution_count": null,
      "metadata": {
        "id": "GlW5W6RW48sa",
        "outputId": "de5d0284-643e-4cdb-d87e-bbd410007cc1"
      },
      "outputs": [
        {
          "data": {
            "image/png": "[encoded data removed]",
            "text/plain": [
              "<Figure size 640x480 with 1 Axes>"
            ]
          },
          "metadata": {},
          "output_type": "display_data"
        }
      ],
      "source": [
        "import matplotlib.pyplot as plt\n",
        "\n",
        "# Liste des valeurs générées\n",
        "valeurs = beta_1_mMALA # Remplacez ... par vos valeurs\n",
        "\n",
        "# Liste des instants de temps correspondants\n",
        "temps = [i/3000 for i in range(3000)]  # Remplacez ... par vos instants de temps\n",
        "\n",
        "# Tracé du graphique\n",
        "plt.plot(temps, valeurs, marker='o', linestyle='-')\n",
        "plt.axhline(y=beta_none[0], color='r', linestyle='--', label='y=2')\n",
        "\n",
        "\n",
        "# Ajout de titres et d'étiquettes d'axe\n",
        "plt.title('Suite de réels générée par un algorithme de Monte Carlo')\n",
        "plt.xlabel('Temps')\n",
        "plt.ylabel('Valeurs')\n",
        "\n",
        "# Affichage du graphique\n",
        "plt.grid(True)  # Ajoute une grille\n",
        "plt.show()\n"
      ]
    },
    {
      "cell_type": "code",
      "execution_count": null,
      "metadata": {
        "id": "cKTSihMf48sa",
        "outputId": "de3109a3-baa7-4cd2-e0a7-c5e5cd33b00e"
      },
      "outputs": [
        {
          "data": {
            "text/plain": [
              "(150,)"
            ]
          },
          "execution_count": 184,
          "metadata": {},
          "output_type": "execute_result"
        }
      ],
      "source": [
        "beta_mMALA=mMALA_chaine[-1]\n",
        "y_pred_mMALA = predictor(X,beta_mMALA)\n",
        "y_pred_mMALA.shape"
      ]
    },
    {
      "cell_type": "code",
      "execution_count": null,
      "metadata": {
        "id": "8KK15wNw48sa",
        "outputId": "dd57218c-f769-4b42-b4c0-f843f1996748"
      },
      "outputs": [
        {
          "data": {
            "image/png": "[encoded data removed]",
            "text/plain": [
              "<Figure size 800x600 with 1 Axes>"
            ]
          },
          "metadata": {},
          "output_type": "display_data"
        }
      ],
      "source": [
        "import numpy as np\n",
        "import matplotlib.pyplot as plt\n",
        "from sklearn.metrics import confusion_matrix\n",
        "import seaborn as sns\n",
        "\n",
        "\n",
        "\n",
        "# Calculer la matrice de confusion\n",
        "conf_matrix = confusion_matrix(Y, y_pred_mMALA)\n",
        "\n",
        "# Étiquettes des classes\n",
        "class_names = ['Classe 0', 'Classe 1']\n",
        "\n",
        "# Tracer la matrice de confusion\n",
        "plt.figure(figsize=(8, 6))\n",
        "sns.set(font_scale=1.2)  # Ajuster la taille de la police\n",
        "sns.heatmap(conf_matrix, annot=True, fmt='d', cmap='Blues', cbar=False, annot_kws={\"size\": 14}, xticklabels=class_names, yticklabels=class_names)\n",
        "plt.xlabel('Classe prédite')\n",
        "plt.ylabel('Classe réelle')\n",
        "plt.title('Matrice de confusion')\n",
        "plt.show()\n"
      ]
    },
    {
      "cell_type": "code",
      "execution_count": null,
      "metadata": {
        "id": "dsi_S8-R48sb",
        "outputId": "fd4f201b-e7b2-45d5-c8ce-176a6895af89"
      },
      "outputs": [
        {
          "data": {
            "text/plain": [
              "(25,)"
            ]
          },
          "execution_count": 186,
          "metadata": {},
          "output_type": "execute_result"
        }
      ],
      "source": [
        "beta_mMALA=mMALA_chaine[-1]\n",
        "y_pred_test_mMALA = predictor(X_test,beta_mMALA)\n",
        "y_pred_test_mMALA.shape"
      ]
    },
    {
      "cell_type": "code",
      "execution_count": null,
      "metadata": {
        "id": "uV95t6AX48sb",
        "outputId": "a1aa1fe6-446d-441a-8d99-ac0cf3b49b8b"
      },
      "outputs": [
        {
          "data": {
            "image/png": "[encoded data removed]",
            "text/plain": [
              "<Figure size 800x600 with 1 Axes>"
            ]
          },
          "metadata": {},
          "output_type": "display_data"
        }
      ],
      "source": [
        "import numpy as np\n",
        "import matplotlib.pyplot as plt\n",
        "from sklearn.metrics import confusion_matrix\n",
        "import seaborn as sns\n",
        "\n",
        "\n",
        "\n",
        "# Calculer la matrice de confusion\n",
        "conf_matrix = confusion_matrix(Y_test, y_pred_test_mMALA)\n",
        "\n",
        "# Étiquettes des classes\n",
        "class_names = ['Classe 0', 'Classe 1']\n",
        "\n",
        "# Tracer la matrice de confusion\n",
        "plt.figure(figsize=(8, 6))\n",
        "sns.set(font_scale=1.2)  # Ajuster la taille de la police\n",
        "sns.heatmap(conf_matrix, annot=True, fmt='d', cmap='Blues', cbar=False, annot_kws={\"size\": 14}, xticklabels=class_names, yticklabels=class_names)\n",
        "plt.xlabel('Classe prédite')\n",
        "plt.ylabel('Classe réelle')\n",
        "plt.title('Matrice de confusion')\n",
        "plt.show()\n"
      ]
    }
  ],
  "metadata": {
    "kernelspec": {
      "display_name": "base",
      "language": "python",
      "name": "python3"
    },
    "language_info": {
      "codemirror_mode": {
        "name": "ipython",
        "version": 3
      },
      "file_extension": ".py",
      "mimetype": "text/x-python",
      "name": "python",
      "nbconvert_exporter": "python",
      "pygments_lexer": "ipython3",
      "version": "3.11.6"
    },
    "colab": {
      "provenance": []
    }
  },
  "nbformat": 4,
  "nbformat_minor": 0
}